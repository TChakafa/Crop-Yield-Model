{
 "cells": [
  {
   "cell_type": "code",
   "execution_count": null,
   "id": "638409ef-1c4c-40af-b381-3ac9437d72be",
   "metadata": {},
   "outputs": [],
   "source": [
    "import pandas as pd\n",
    "import folium\n",
    "#import geopandas as gpd\n",
    "import plotly.express as px\n",
    "#import geodatasets\n",
    "from folium.plugins import HeatMap\n",
    "import matplotlib.pyplot as plt\n",
    "import seaborn as sns\n",
    "from sklearn.linear_model import LinearRegression\n",
    "import plotly.express as px\n",
    "import plotly.graph_objects as go\n",
    "from plotly.subplots import make_subplots\n",
    "from IPython.display import display\n"
   ]
  },
  {
   "cell_type": "markdown",
   "id": "85815b58-2e92-4c20-b906-7d29f1263cc4",
   "metadata": {},
   "source": [
    "# Importing the Dataset  for analysis"
   ]
  },
  {
   "cell_type": "code",
   "execution_count": 171,
   "id": "b6a18e5a-7094-4761-a3ad-f252e87451b1",
   "metadata": {},
   "outputs": [
    {
     "data": {
      "text/html": [
       "<div>\n",
       "<style scoped>\n",
       "    .dataframe tbody tr th:only-of-type {\n",
       "        vertical-align: middle;\n",
       "    }\n",
       "\n",
       "    .dataframe tbody tr th {\n",
       "        vertical-align: top;\n",
       "    }\n",
       "\n",
       "    .dataframe thead th {\n",
       "        text-align: right;\n",
       "    }\n",
       "</style>\n",
       "<table border=\"1\" class=\"dataframe\">\n",
       "  <thead>\n",
       "    <tr style=\"text-align: right;\">\n",
       "      <th></th>\n",
       "      <th>Location</th>\n",
       "      <th>Date_Time</th>\n",
       "      <th>Temperature_C</th>\n",
       "      <th>Humidity_pct</th>\n",
       "      <th>Precipitation_mm</th>\n",
       "      <th>Wind_Speed_kmh</th>\n",
       "      <th>Crop_Yield</th>\n",
       "      <th>Season(Jan-May)</th>\n",
       "    </tr>\n",
       "  </thead>\n",
       "  <tbody>\n",
       "    <tr>\n",
       "      <th>0</th>\n",
       "      <td>San Diego</td>\n",
       "      <td>1/14/2024 21:12</td>\n",
       "      <td>10.683001</td>\n",
       "      <td>41.195754</td>\n",
       "      <td>4.020119</td>\n",
       "      <td>8.233540</td>\n",
       "      <td>0.700000</td>\n",
       "      <td>1</td>\n",
       "    </tr>\n",
       "    <tr>\n",
       "      <th>1</th>\n",
       "      <td>San Diego</td>\n",
       "      <td>5/17/2024 15:22</td>\n",
       "      <td>8.734140</td>\n",
       "      <td>58.319107</td>\n",
       "      <td>9.111623</td>\n",
       "      <td>27.715161</td>\n",
       "      <td>0.700000</td>\n",
       "      <td>1</td>\n",
       "    </tr>\n",
       "    <tr>\n",
       "      <th>2</th>\n",
       "      <td>San Diego</td>\n",
       "      <td>5/11/2024 9:30</td>\n",
       "      <td>11.632436</td>\n",
       "      <td>38.820175</td>\n",
       "      <td>4.607511</td>\n",
       "      <td>28.732951</td>\n",
       "      <td>0.700000</td>\n",
       "      <td>1</td>\n",
       "    </tr>\n",
       "    <tr>\n",
       "      <th>3</th>\n",
       "      <td>Philadelphia</td>\n",
       "      <td>2/26/2024 17:32</td>\n",
       "      <td>-8.628976</td>\n",
       "      <td>54.074474</td>\n",
       "      <td>3.183720</td>\n",
       "      <td>26.367303</td>\n",
       "      <td>0.486592</td>\n",
       "      <td>1</td>\n",
       "    </tr>\n",
       "    <tr>\n",
       "      <th>4</th>\n",
       "      <td>San Antonio</td>\n",
       "      <td>4/29/2024 13:23</td>\n",
       "      <td>39.808213</td>\n",
       "      <td>72.899908</td>\n",
       "      <td>9.598282</td>\n",
       "      <td>29.898622</td>\n",
       "      <td>3.697053</td>\n",
       "      <td>1</td>\n",
       "    </tr>\n",
       "    <tr>\n",
       "      <th>5</th>\n",
       "      <td>San Diego</td>\n",
       "      <td>1/21/2024 8:54</td>\n",
       "      <td>27.341055</td>\n",
       "      <td>49.023236</td>\n",
       "      <td>9.166543</td>\n",
       "      <td>27.473896</td>\n",
       "      <td>0.700000</td>\n",
       "      <td>1</td>\n",
       "    </tr>\n",
       "    <tr>\n",
       "      <th>6</th>\n",
       "      <td>San Jose</td>\n",
       "      <td>1/13/2024 2:10</td>\n",
       "      <td>1.881883</td>\n",
       "      <td>65.742325</td>\n",
       "      <td>0.221709</td>\n",
       "      <td>1.073112</td>\n",
       "      <td>1.575000</td>\n",
       "      <td>1</td>\n",
       "    </tr>\n",
       "    <tr>\n",
       "      <th>7</th>\n",
       "      <td>New York</td>\n",
       "      <td>1/25/2024 19:04</td>\n",
       "      <td>-6.894766</td>\n",
       "      <td>30.804894</td>\n",
       "      <td>8.027624</td>\n",
       "      <td>16.848337</td>\n",
       "      <td>1.300000</td>\n",
       "      <td>1</td>\n",
       "    </tr>\n",
       "    <tr>\n",
       "      <th>8</th>\n",
       "      <td>New York</td>\n",
       "      <td>3/29/2024 5:20</td>\n",
       "      <td>0.963545</td>\n",
       "      <td>38.819158</td>\n",
       "      <td>3.640129</td>\n",
       "      <td>7.989024</td>\n",
       "      <td>1.300000</td>\n",
       "      <td>1</td>\n",
       "    </tr>\n",
       "    <tr>\n",
       "      <th>9</th>\n",
       "      <td>San Jose</td>\n",
       "      <td>5/18/2024 9:14</td>\n",
       "      <td>-1.607088</td>\n",
       "      <td>82.198701</td>\n",
       "      <td>4.101493</td>\n",
       "      <td>25.647282</td>\n",
       "      <td>1.575000</td>\n",
       "      <td>1</td>\n",
       "    </tr>\n",
       "  </tbody>\n",
       "</table>\n",
       "</div>"
      ],
      "text/plain": [
       "       Location        Date_Time  Temperature_C  Humidity_pct  \\\n",
       "0     San Diego  1/14/2024 21:12      10.683001     41.195754   \n",
       "1     San Diego  5/17/2024 15:22       8.734140     58.319107   \n",
       "2     San Diego   5/11/2024 9:30      11.632436     38.820175   \n",
       "3  Philadelphia  2/26/2024 17:32      -8.628976     54.074474   \n",
       "4   San Antonio  4/29/2024 13:23      39.808213     72.899908   \n",
       "5     San Diego   1/21/2024 8:54      27.341055     49.023236   \n",
       "6      San Jose   1/13/2024 2:10       1.881883     65.742325   \n",
       "7      New York  1/25/2024 19:04      -6.894766     30.804894   \n",
       "8      New York   3/29/2024 5:20       0.963545     38.819158   \n",
       "9      San Jose   5/18/2024 9:14      -1.607088     82.198701   \n",
       "\n",
       "   Precipitation_mm  Wind_Speed_kmh  Crop_Yield  Season(Jan-May)  \n",
       "0          4.020119        8.233540    0.700000                1  \n",
       "1          9.111623       27.715161    0.700000                1  \n",
       "2          4.607511       28.732951    0.700000                1  \n",
       "3          3.183720       26.367303    0.486592                1  \n",
       "4          9.598282       29.898622    3.697053                1  \n",
       "5          9.166543       27.473896    0.700000                1  \n",
       "6          0.221709        1.073112    1.575000                1  \n",
       "7          8.027624       16.848337    1.300000                1  \n",
       "8          3.640129        7.989024    1.300000                1  \n",
       "9          4.101493       25.647282    1.575000                1  "
      ]
     },
     "execution_count": 171,
     "metadata": {},
     "output_type": "execute_result"
    }
   ],
   "source": [
    "# Load the dataset\n",
    "df = pd.read_csv(\"weather_data_augmented.csv\")\n",
    "#View the first 10 rows\n",
    "df.head(10)"
   ]
  },
  {
   "cell_type": "markdown",
   "id": "73823540-3f1c-4afc-80df-012ea1c61c9c",
   "metadata": {},
   "source": [
    "# Renaming colum names"
   ]
  },
  {
   "cell_type": "code",
   "execution_count": 174,
   "id": "f87afe90-77d3-4054-9704-f306f0ac90b2",
   "metadata": {},
   "outputs": [],
   "source": [
    "# Rename columns\n",
    "df.rename(columns={\n",
    "    \"Date_Time\": \"Date\",\n",
    "    \"Temperature_C\": \"Temperature(C)\",\n",
    "    \"Humidity_pct\": \"Humidity(pct)\",\n",
    "    \"Precipitation_mm\": \"Precipitation(mm)\",\n",
    "    \"Wind_Speed_kmh\": \"Wind_Speed(km/h)\"\n",
    "}, inplace=True)\n"
   ]
  },
  {
   "cell_type": "markdown",
   "id": "58c34b65-ff95-4371-95a5-8a951c9ddd7d",
   "metadata": {},
   "source": [
    "# Removing the time component in the date column"
   ]
  },
  {
   "cell_type": "code",
   "execution_count": 177,
   "id": "a6ae63de-18b2-4e1b-94f8-34d7e24c2402",
   "metadata": {},
   "outputs": [],
   "source": [
    "# Remove time from the Date column\n",
    "df[\"Date\"] = pd.to_datetime(df[\"Date\"]).dt.date"
   ]
  },
  {
   "cell_type": "code",
   "execution_count": 179,
   "id": "72ce78b5-2591-416a-9574-3e19c1e0638d",
   "metadata": {},
   "outputs": [
    {
     "data": {
      "text/html": [
       "<div>\n",
       "<style scoped>\n",
       "    .dataframe tbody tr th:only-of-type {\n",
       "        vertical-align: middle;\n",
       "    }\n",
       "\n",
       "    .dataframe tbody tr th {\n",
       "        vertical-align: top;\n",
       "    }\n",
       "\n",
       "    .dataframe thead th {\n",
       "        text-align: right;\n",
       "    }\n",
       "</style>\n",
       "<table border=\"1\" class=\"dataframe\">\n",
       "  <thead>\n",
       "    <tr style=\"text-align: right;\">\n",
       "      <th></th>\n",
       "      <th>Location</th>\n",
       "      <th>Date</th>\n",
       "      <th>Temperature(C)</th>\n",
       "      <th>Humidity(pct)</th>\n",
       "      <th>Precipitation(mm)</th>\n",
       "      <th>Wind_Speed(km/h)</th>\n",
       "      <th>Crop_Yield</th>\n",
       "      <th>Season(Jan-May)</th>\n",
       "    </tr>\n",
       "  </thead>\n",
       "  <tbody>\n",
       "    <tr>\n",
       "      <th>0</th>\n",
       "      <td>San Diego</td>\n",
       "      <td>2024-01-14</td>\n",
       "      <td>10.683001</td>\n",
       "      <td>41.195754</td>\n",
       "      <td>4.020119</td>\n",
       "      <td>8.233540</td>\n",
       "      <td>0.700000</td>\n",
       "      <td>1</td>\n",
       "    </tr>\n",
       "    <tr>\n",
       "      <th>1</th>\n",
       "      <td>San Diego</td>\n",
       "      <td>2024-05-17</td>\n",
       "      <td>8.734140</td>\n",
       "      <td>58.319107</td>\n",
       "      <td>9.111623</td>\n",
       "      <td>27.715161</td>\n",
       "      <td>0.700000</td>\n",
       "      <td>1</td>\n",
       "    </tr>\n",
       "    <tr>\n",
       "      <th>2</th>\n",
       "      <td>San Diego</td>\n",
       "      <td>2024-05-11</td>\n",
       "      <td>11.632436</td>\n",
       "      <td>38.820175</td>\n",
       "      <td>4.607511</td>\n",
       "      <td>28.732951</td>\n",
       "      <td>0.700000</td>\n",
       "      <td>1</td>\n",
       "    </tr>\n",
       "    <tr>\n",
       "      <th>3</th>\n",
       "      <td>Philadelphia</td>\n",
       "      <td>2024-02-26</td>\n",
       "      <td>-8.628976</td>\n",
       "      <td>54.074474</td>\n",
       "      <td>3.183720</td>\n",
       "      <td>26.367303</td>\n",
       "      <td>0.486592</td>\n",
       "      <td>1</td>\n",
       "    </tr>\n",
       "    <tr>\n",
       "      <th>4</th>\n",
       "      <td>San Antonio</td>\n",
       "      <td>2024-04-29</td>\n",
       "      <td>39.808213</td>\n",
       "      <td>72.899908</td>\n",
       "      <td>9.598282</td>\n",
       "      <td>29.898622</td>\n",
       "      <td>3.697053</td>\n",
       "      <td>1</td>\n",
       "    </tr>\n",
       "  </tbody>\n",
       "</table>\n",
       "</div>"
      ],
      "text/plain": [
       "       Location        Date  Temperature(C)  Humidity(pct)  Precipitation(mm)  \\\n",
       "0     San Diego  2024-01-14       10.683001      41.195754           4.020119   \n",
       "1     San Diego  2024-05-17        8.734140      58.319107           9.111623   \n",
       "2     San Diego  2024-05-11       11.632436      38.820175           4.607511   \n",
       "3  Philadelphia  2024-02-26       -8.628976      54.074474           3.183720   \n",
       "4   San Antonio  2024-04-29       39.808213      72.899908           9.598282   \n",
       "\n",
       "   Wind_Speed(km/h)  Crop_Yield  Season(Jan-May)  \n",
       "0          8.233540    0.700000                1  \n",
       "1         27.715161    0.700000                1  \n",
       "2         28.732951    0.700000                1  \n",
       "3         26.367303    0.486592                1  \n",
       "4         29.898622    3.697053                1  "
      ]
     },
     "execution_count": 179,
     "metadata": {},
     "output_type": "execute_result"
    }
   ],
   "source": [
    "#Check if changes have been applied\n",
    "df.head(5)"
   ]
  },
  {
   "cell_type": "code",
   "execution_count": 181,
   "id": "2277cdad-1ace-40fd-bcb3-8b953e7817c5",
   "metadata": {},
   "outputs": [],
   "source": [
    "# Dictionary mapping locations to their coordinates\n",
    "coordinates = {\n",
    "    'Dallas': (32.7767, -96.7970),\n",
    "    'Phoenix': (33.4484, -112.0740),\n",
    "    'San Diego': (32.7157, -117.1611),\n",
    "    'Chicago': (41.8781, -87.6298),\n",
    "    'Houston': (29.7604, -95.3698),\n",
    "    'San Antonio': (29.4241, -98.4936),\n",
    "    'New York': (40.7128, -74.0060),\n",
    "    'Philadelphia': (39.9526, -75.1652),\n",
    "    'San Jose': (37.3382, -121.8863),\n",
    "    'Los Angeles': (34.0522, -118.2437)\n",
    "}"
   ]
  },
  {
   "cell_type": "code",
   "execution_count": 183,
   "id": "9da59cd7-4da3-4269-80b5-aef0fecf05f3",
   "metadata": {},
   "outputs": [],
   "source": [
    "aggregated_data = df.groupby('Location').agg({\n",
    "    'Temperature(C)': 'mean', \n",
    "    'Humidity(pct)': 'mean', \n",
    "    'Precipitation(mm)': 'sum', \n",
    "    'Wind_Speed(km/h)': 'mean'\n",
    "}).reset_index()"
   ]
  },
  {
   "cell_type": "code",
   "execution_count": 185,
   "id": "175961bb-a924-4426-ab98-20a571182485",
   "metadata": {},
   "outputs": [],
   "source": [
    "#Add latitude and longitude based on the dictionary\n",
    "aggregated_data['Latitude'] = aggregated_data['Location'].map(lambda x: coordinates[x][0] if x in coordinates else None)\n",
    "aggregated_data['Longitude'] = aggregated_data['Location'].map(lambda x: coordinates[x][1] if x in coordinates else None)\n"
   ]
  },
  {
   "cell_type": "code",
   "execution_count": 187,
   "id": "49ca5417-1681-4443-95f4-bc5dc93c88de",
   "metadata": {},
   "outputs": [
    {
     "name": "stderr",
     "output_type": "stream",
     "text": [
      "C:\\Users\\user\\AppData\\Local\\Temp\\ipykernel_17404\\2506286546.py:31: UserWarning:\n",
      "\n",
      "color argument of Icon should be one of: {'lightred', 'lightgreen', 'beige', 'blue', 'lightgray', 'cadetblue', 'gray', 'purple', 'red', 'darkred', 'darkblue', 'darkpurple', 'lightblue', 'darkgreen', 'orange', 'black', 'green', 'white', 'pink'}.\n",
      "\n"
     ]
    },
    {
     "data": {
      "text/html": [
       "<div style=\"width:100%;\"><div style=\"position:relative;width:100%;height:0;padding-bottom:60%;\"><span style=\"color:#565656\">Make this Notebook Trusted to load map: File -> Trust Notebook</span><iframe srcdoc=\"&lt;!DOCTYPE html&gt;\n",
       "&lt;html&gt;\n",
       "&lt;head&gt;\n",
       "    \n",
       "    &lt;meta http-equiv=&quot;content-type&quot; content=&quot;text/html; charset=UTF-8&quot; /&gt;\n",
       "    \n",
       "        &lt;script&gt;\n",
       "            L_NO_TOUCH = false;\n",
       "            L_DISABLE_3D = false;\n",
       "        &lt;/script&gt;\n",
       "    \n",
       "    &lt;style&gt;html, body {width: 100%;height: 100%;margin: 0;padding: 0;}&lt;/style&gt;\n",
       "    &lt;style&gt;#map {position:absolute;top:0;bottom:0;right:0;left:0;}&lt;/style&gt;\n",
       "    &lt;script src=&quot;https://cdn.jsdelivr.net/npm/leaflet@1.9.3/dist/leaflet.js&quot;&gt;&lt;/script&gt;\n",
       "    &lt;script src=&quot;https://code.jquery.com/jquery-3.7.1.min.js&quot;&gt;&lt;/script&gt;\n",
       "    &lt;script src=&quot;https://cdn.jsdelivr.net/npm/bootstrap@5.2.2/dist/js/bootstrap.bundle.min.js&quot;&gt;&lt;/script&gt;\n",
       "    &lt;script src=&quot;https://cdnjs.cloudflare.com/ajax/libs/Leaflet.awesome-markers/2.0.2/leaflet.awesome-markers.js&quot;&gt;&lt;/script&gt;\n",
       "    &lt;link rel=&quot;stylesheet&quot; href=&quot;https://cdn.jsdelivr.net/npm/leaflet@1.9.3/dist/leaflet.css&quot;/&gt;\n",
       "    &lt;link rel=&quot;stylesheet&quot; href=&quot;https://cdn.jsdelivr.net/npm/bootstrap@5.2.2/dist/css/bootstrap.min.css&quot;/&gt;\n",
       "    &lt;link rel=&quot;stylesheet&quot; href=&quot;https://netdna.bootstrapcdn.com/bootstrap/3.0.0/css/bootstrap-glyphicons.css&quot;/&gt;\n",
       "    &lt;link rel=&quot;stylesheet&quot; href=&quot;https://cdn.jsdelivr.net/npm/@fortawesome/fontawesome-free@6.2.0/css/all.min.css&quot;/&gt;\n",
       "    &lt;link rel=&quot;stylesheet&quot; href=&quot;https://cdnjs.cloudflare.com/ajax/libs/Leaflet.awesome-markers/2.0.2/leaflet.awesome-markers.css&quot;/&gt;\n",
       "    &lt;link rel=&quot;stylesheet&quot; href=&quot;https://cdn.jsdelivr.net/gh/python-visualization/folium/folium/templates/leaflet.awesome.rotate.min.css&quot;/&gt;\n",
       "    \n",
       "            &lt;meta name=&quot;viewport&quot; content=&quot;width=device-width,\n",
       "                initial-scale=1.0, maximum-scale=1.0, user-scalable=no&quot; /&gt;\n",
       "            &lt;style&gt;\n",
       "                #map_e1a4368a8398afc72d13d23214678d09 {\n",
       "                    position: relative;\n",
       "                    width: 100.0%;\n",
       "                    height: 100.0%;\n",
       "                    left: 0.0%;\n",
       "                    top: 0.0%;\n",
       "                }\n",
       "                .leaflet-container { font-size: 1rem; }\n",
       "            &lt;/style&gt;\n",
       "        \n",
       "&lt;/head&gt;\n",
       "&lt;body&gt;\n",
       "    \n",
       "    \n",
       "&lt;div style=&quot;position: fixed; \n",
       "            top: 10px; left: 10px; width: 150px; height: auto; \n",
       "            border:2px solid grey; z-index:1000; font-size:14px;\n",
       "            background-color: white;&quot;&gt;\n",
       "    &lt;p style=&quot;text-align: center; font-weight: bold;&quot;&gt;Locations Legend&lt;/p&gt;\n",
       "&lt;p&gt;&lt;a href=&quot;#&quot; onclick=&quot;map.setView([32.7767, -96.797], 8);&quot; style=&quot;color: blue;&quot;&gt;Dallas&lt;/a&gt;&lt;/p&gt;&lt;p&gt;&lt;a href=&quot;#&quot; onclick=&quot;map.setView([33.4484, -112.074], 8);&quot; style=&quot;color: orange;&quot;&gt;Phoenix&lt;/a&gt;&lt;/p&gt;&lt;p&gt;&lt;a href=&quot;#&quot; onclick=&quot;map.setView([32.7157, -117.1611], 8);&quot; style=&quot;color: green;&quot;&gt;San Diego&lt;/a&gt;&lt;/p&gt;&lt;p&gt;&lt;a href=&quot;#&quot; onclick=&quot;map.setView([41.8781, -87.6298], 8);&quot; style=&quot;color: red;&quot;&gt;Chicago&lt;/a&gt;&lt;/p&gt;&lt;p&gt;&lt;a href=&quot;#&quot; onclick=&quot;map.setView([29.7604, -95.3698], 8);&quot; style=&quot;color: purple;&quot;&gt;Houston&lt;/a&gt;&lt;/p&gt;&lt;p&gt;&lt;a href=&quot;#&quot; onclick=&quot;map.setView([29.4241, -98.4936], 8);&quot; style=&quot;color: darkblue;&quot;&gt;San Antonio&lt;/a&gt;&lt;/p&gt;&lt;p&gt;&lt;a href=&quot;#&quot; onclick=&quot;map.setView([40.7128, -74.006], 8);&quot; style=&quot;color: darkgreen;&quot;&gt;New York&lt;/a&gt;&lt;/p&gt;&lt;p&gt;&lt;a href=&quot;#&quot; onclick=&quot;map.setView([39.9526, -75.1652], 8);&quot; style=&quot;color: darkred;&quot;&gt;Philadelphia&lt;/a&gt;&lt;/p&gt;&lt;p&gt;&lt;a href=&quot;#&quot; onclick=&quot;map.setView([37.3382, -121.8863], 8);&quot; style=&quot;color: black;&quot;&gt;San Jose&lt;/a&gt;&lt;/p&gt;&lt;p&gt;&lt;a href=&quot;#&quot; onclick=&quot;map.setView([34.0522, -118.2437], 8);&quot; style=&quot;color: yellow;&quot;&gt;Los Angeles&lt;/a&gt;&lt;/p&gt;&lt;/div&gt;\n",
       "    \n",
       "            &lt;div class=&quot;folium-map&quot; id=&quot;map_e1a4368a8398afc72d13d23214678d09&quot; &gt;&lt;/div&gt;\n",
       "        \n",
       "&lt;/body&gt;\n",
       "&lt;script&gt;\n",
       "    \n",
       "    \n",
       "            var map_e1a4368a8398afc72d13d23214678d09 = L.map(\n",
       "                &quot;map_e1a4368a8398afc72d13d23214678d09&quot;,\n",
       "                {\n",
       "                    center: [37.0, -95.0],\n",
       "                    crs: L.CRS.EPSG3857,\n",
       "                    ...{\n",
       "  &quot;zoom&quot;: 4,\n",
       "  &quot;zoomControl&quot;: true,\n",
       "  &quot;preferCanvas&quot;: false,\n",
       "}\n",
       "\n",
       "                }\n",
       "            );\n",
       "\n",
       "            \n",
       "\n",
       "        \n",
       "    \n",
       "            var tile_layer_130b37468738dca55cfdd49f35254cb5 = L.tileLayer(\n",
       "                &quot;https://tile.openstreetmap.org/{z}/{x}/{y}.png&quot;,\n",
       "                {\n",
       "  &quot;minZoom&quot;: 0,\n",
       "  &quot;maxZoom&quot;: 19,\n",
       "  &quot;maxNativeZoom&quot;: 19,\n",
       "  &quot;noWrap&quot;: false,\n",
       "  &quot;attribution&quot;: &quot;\\u0026copy; \\u003ca href=\\&quot;https://www.openstreetmap.org/copyright\\&quot;\\u003eOpenStreetMap\\u003c/a\\u003e contributors&quot;,\n",
       "  &quot;subdomains&quot;: &quot;abc&quot;,\n",
       "  &quot;detectRetina&quot;: false,\n",
       "  &quot;tms&quot;: false,\n",
       "  &quot;opacity&quot;: 1,\n",
       "}\n",
       "\n",
       "            );\n",
       "        \n",
       "    \n",
       "            tile_layer_130b37468738dca55cfdd49f35254cb5.addTo(map_e1a4368a8398afc72d13d23214678d09);\n",
       "        \n",
       "    \n",
       "            var marker_8d514fea3158c12ece3f4b0a2eed89cc = L.marker(\n",
       "                [41.8781, -87.6298],\n",
       "                {\n",
       "}\n",
       "            ).addTo(map_e1a4368a8398afc72d13d23214678d09);\n",
       "        \n",
       "    \n",
       "            var icon_5ec47b1dbde36777ddd4dc9257284af1 = L.AwesomeMarkers.icon(\n",
       "                {\n",
       "  &quot;markerColor&quot;: &quot;red&quot;,\n",
       "  &quot;iconColor&quot;: &quot;white&quot;,\n",
       "  &quot;icon&quot;: &quot;info-sign&quot;,\n",
       "  &quot;prefix&quot;: &quot;glyphicon&quot;,\n",
       "  &quot;extraClasses&quot;: &quot;fa-rotate-0&quot;,\n",
       "}\n",
       "            );\n",
       "        \n",
       "    \n",
       "        var popup_502e7703522566fee7a8f7f8e4366dfe = L.popup({\n",
       "  &quot;maxWidth&quot;: &quot;100%&quot;,\n",
       "});\n",
       "\n",
       "        \n",
       "            \n",
       "                var html_eee83da3b17de2093dab0b02f48c0f9d = $(`&lt;div id=&quot;html_eee83da3b17de2093dab0b02f48c0f9d&quot; style=&quot;width: 100.0%; height: 100.0%;&quot;&gt;Location: Chicago&lt;br&gt;Temp: 15.0 °C&lt;br&gt;Humidity: 60.1 %&lt;br&gt;Precipitation: 501136.9 mm&lt;br&gt;Wind Speed: 15.0 km/h&lt;/div&gt;`)[0];\n",
       "                popup_502e7703522566fee7a8f7f8e4366dfe.setContent(html_eee83da3b17de2093dab0b02f48c0f9d);\n",
       "            \n",
       "        \n",
       "\n",
       "        marker_8d514fea3158c12ece3f4b0a2eed89cc.bindPopup(popup_502e7703522566fee7a8f7f8e4366dfe)\n",
       "        ;\n",
       "\n",
       "        \n",
       "    \n",
       "    \n",
       "                marker_8d514fea3158c12ece3f4b0a2eed89cc.setIcon(icon_5ec47b1dbde36777ddd4dc9257284af1);\n",
       "            \n",
       "    \n",
       "            var marker_d76c9cfff201d8b43ba315d8943ce445 = L.marker(\n",
       "                [32.7767, -96.797],\n",
       "                {\n",
       "}\n",
       "            ).addTo(map_e1a4368a8398afc72d13d23214678d09);\n",
       "        \n",
       "    \n",
       "            var icon_a53c030d264439cbe75106885c86b554 = L.AwesomeMarkers.icon(\n",
       "                {\n",
       "  &quot;markerColor&quot;: &quot;blue&quot;,\n",
       "  &quot;iconColor&quot;: &quot;white&quot;,\n",
       "  &quot;icon&quot;: &quot;info-sign&quot;,\n",
       "  &quot;prefix&quot;: &quot;glyphicon&quot;,\n",
       "  &quot;extraClasses&quot;: &quot;fa-rotate-0&quot;,\n",
       "}\n",
       "            );\n",
       "        \n",
       "    \n",
       "        var popup_f9a02f4abc9ccaffb2139357f8e18b0a = L.popup({\n",
       "  &quot;maxWidth&quot;: &quot;100%&quot;,\n",
       "});\n",
       "\n",
       "        \n",
       "            \n",
       "                var html_565e34b3aecc87e9f906b474504fd4bb = $(`&lt;div id=&quot;html_565e34b3aecc87e9f906b474504fd4bb&quot; style=&quot;width: 100.0%; height: 100.0%;&quot;&gt;Location: Dallas&lt;br&gt;Temp: 15.0 °C&lt;br&gt;Humidity: 60.0 %&lt;br&gt;Precipitation: 499430.9 mm&lt;br&gt;Wind Speed: 15.0 km/h&lt;/div&gt;`)[0];\n",
       "                popup_f9a02f4abc9ccaffb2139357f8e18b0a.setContent(html_565e34b3aecc87e9f906b474504fd4bb);\n",
       "            \n",
       "        \n",
       "\n",
       "        marker_d76c9cfff201d8b43ba315d8943ce445.bindPopup(popup_f9a02f4abc9ccaffb2139357f8e18b0a)\n",
       "        ;\n",
       "\n",
       "        \n",
       "    \n",
       "    \n",
       "                marker_d76c9cfff201d8b43ba315d8943ce445.setIcon(icon_a53c030d264439cbe75106885c86b554);\n",
       "            \n",
       "    \n",
       "            var marker_3e0ace42d839a2dfde89ca647623b1c4 = L.marker(\n",
       "                [29.7604, -95.3698],\n",
       "                {\n",
       "}\n",
       "            ).addTo(map_e1a4368a8398afc72d13d23214678d09);\n",
       "        \n",
       "    \n",
       "            var icon_46985915374a826447e9625278884a3b = L.AwesomeMarkers.icon(\n",
       "                {\n",
       "  &quot;markerColor&quot;: &quot;purple&quot;,\n",
       "  &quot;iconColor&quot;: &quot;white&quot;,\n",
       "  &quot;icon&quot;: &quot;info-sign&quot;,\n",
       "  &quot;prefix&quot;: &quot;glyphicon&quot;,\n",
       "  &quot;extraClasses&quot;: &quot;fa-rotate-0&quot;,\n",
       "}\n",
       "            );\n",
       "        \n",
       "    \n",
       "        var popup_96b191f0143025cc23b503fd0f5d60c1 = L.popup({\n",
       "  &quot;maxWidth&quot;: &quot;100%&quot;,\n",
       "});\n",
       "\n",
       "        \n",
       "            \n",
       "                var html_9e733ad7b9d0a825f1d5638389dc7b08 = $(`&lt;div id=&quot;html_9e733ad7b9d0a825f1d5638389dc7b08&quot; style=&quot;width: 100.0%; height: 100.0%;&quot;&gt;Location: Houston&lt;br&gt;Temp: 14.9 °C&lt;br&gt;Humidity: 60.0 %&lt;br&gt;Precipitation: 500155.5 mm&lt;br&gt;Wind Speed: 15.0 km/h&lt;/div&gt;`)[0];\n",
       "                popup_96b191f0143025cc23b503fd0f5d60c1.setContent(html_9e733ad7b9d0a825f1d5638389dc7b08);\n",
       "            \n",
       "        \n",
       "\n",
       "        marker_3e0ace42d839a2dfde89ca647623b1c4.bindPopup(popup_96b191f0143025cc23b503fd0f5d60c1)\n",
       "        ;\n",
       "\n",
       "        \n",
       "    \n",
       "    \n",
       "                marker_3e0ace42d839a2dfde89ca647623b1c4.setIcon(icon_46985915374a826447e9625278884a3b);\n",
       "            \n",
       "    \n",
       "            var marker_cbad73306b404916426fd0dc1446bc0d = L.marker(\n",
       "                [34.0522, -118.2437],\n",
       "                {\n",
       "}\n",
       "            ).addTo(map_e1a4368a8398afc72d13d23214678d09);\n",
       "        \n",
       "    \n",
       "            var icon_16c0aa495427b7919880c2c5ce627d71 = L.AwesomeMarkers.icon(\n",
       "                {\n",
       "  &quot;markerColor&quot;: &quot;yellow&quot;,\n",
       "  &quot;iconColor&quot;: &quot;white&quot;,\n",
       "  &quot;icon&quot;: &quot;info-sign&quot;,\n",
       "  &quot;prefix&quot;: &quot;glyphicon&quot;,\n",
       "  &quot;extraClasses&quot;: &quot;fa-rotate-0&quot;,\n",
       "}\n",
       "            );\n",
       "        \n",
       "    \n",
       "        var popup_334e46d1f4018ebb354bd300fff2f38d = L.popup({\n",
       "  &quot;maxWidth&quot;: &quot;100%&quot;,\n",
       "});\n",
       "\n",
       "        \n",
       "            \n",
       "                var html_ca2b12a08e6d5d5d3dad89da9bc9d3c6 = $(`&lt;div id=&quot;html_ca2b12a08e6d5d5d3dad89da9bc9d3c6&quot; style=&quot;width: 100.0%; height: 100.0%;&quot;&gt;Location: Los Angeles&lt;br&gt;Temp: 15.1 °C&lt;br&gt;Humidity: 60.1 %&lt;br&gt;Precipitation: 500058.8 mm&lt;br&gt;Wind Speed: 15.0 km/h&lt;/div&gt;`)[0];\n",
       "                popup_334e46d1f4018ebb354bd300fff2f38d.setContent(html_ca2b12a08e6d5d5d3dad89da9bc9d3c6);\n",
       "            \n",
       "        \n",
       "\n",
       "        marker_cbad73306b404916426fd0dc1446bc0d.bindPopup(popup_334e46d1f4018ebb354bd300fff2f38d)\n",
       "        ;\n",
       "\n",
       "        \n",
       "    \n",
       "    \n",
       "                marker_cbad73306b404916426fd0dc1446bc0d.setIcon(icon_16c0aa495427b7919880c2c5ce627d71);\n",
       "            \n",
       "    \n",
       "            var marker_785533964d5e64954a20b6c0cc2a1949 = L.marker(\n",
       "                [40.7128, -74.006],\n",
       "                {\n",
       "}\n",
       "            ).addTo(map_e1a4368a8398afc72d13d23214678d09);\n",
       "        \n",
       "    \n",
       "            var icon_d8d1fb8d20a8aa4f774a10638350cd2b = L.AwesomeMarkers.icon(\n",
       "                {\n",
       "  &quot;markerColor&quot;: &quot;darkgreen&quot;,\n",
       "  &quot;iconColor&quot;: &quot;white&quot;,\n",
       "  &quot;icon&quot;: &quot;info-sign&quot;,\n",
       "  &quot;prefix&quot;: &quot;glyphicon&quot;,\n",
       "  &quot;extraClasses&quot;: &quot;fa-rotate-0&quot;,\n",
       "}\n",
       "            );\n",
       "        \n",
       "    \n",
       "        var popup_c773a3e8ebb2900a983592b89003d066 = L.popup({\n",
       "  &quot;maxWidth&quot;: &quot;100%&quot;,\n",
       "});\n",
       "\n",
       "        \n",
       "            \n",
       "                var html_e812f865486c263913f0d487e855421a = $(`&lt;div id=&quot;html_e812f865486c263913f0d487e855421a&quot; style=&quot;width: 100.0%; height: 100.0%;&quot;&gt;Location: New York&lt;br&gt;Temp: 15.0 °C&lt;br&gt;Humidity: 60.0 %&lt;br&gt;Precipitation: 499165.8 mm&lt;br&gt;Wind Speed: 15.0 km/h&lt;/div&gt;`)[0];\n",
       "                popup_c773a3e8ebb2900a983592b89003d066.setContent(html_e812f865486c263913f0d487e855421a);\n",
       "            \n",
       "        \n",
       "\n",
       "        marker_785533964d5e64954a20b6c0cc2a1949.bindPopup(popup_c773a3e8ebb2900a983592b89003d066)\n",
       "        ;\n",
       "\n",
       "        \n",
       "    \n",
       "    \n",
       "                marker_785533964d5e64954a20b6c0cc2a1949.setIcon(icon_d8d1fb8d20a8aa4f774a10638350cd2b);\n",
       "            \n",
       "    \n",
       "            var marker_efd3ba0cfa295bac80d39dff020f22b8 = L.marker(\n",
       "                [39.9526, -75.1652],\n",
       "                {\n",
       "}\n",
       "            ).addTo(map_e1a4368a8398afc72d13d23214678d09);\n",
       "        \n",
       "    \n",
       "            var icon_df908f3cf08e5dcd1e184fd2932be686 = L.AwesomeMarkers.icon(\n",
       "                {\n",
       "  &quot;markerColor&quot;: &quot;darkred&quot;,\n",
       "  &quot;iconColor&quot;: &quot;white&quot;,\n",
       "  &quot;icon&quot;: &quot;info-sign&quot;,\n",
       "  &quot;prefix&quot;: &quot;glyphicon&quot;,\n",
       "  &quot;extraClasses&quot;: &quot;fa-rotate-0&quot;,\n",
       "}\n",
       "            );\n",
       "        \n",
       "    \n",
       "        var popup_08b62e876f659f5ef2f78e8bee16ff64 = L.popup({\n",
       "  &quot;maxWidth&quot;: &quot;100%&quot;,\n",
       "});\n",
       "\n",
       "        \n",
       "            \n",
       "                var html_b477c5204dd301d1a95acce17b0217d6 = $(`&lt;div id=&quot;html_b477c5204dd301d1a95acce17b0217d6&quot; style=&quot;width: 100.0%; height: 100.0%;&quot;&gt;Location: Philadelphia&lt;br&gt;Temp: 15.0 °C&lt;br&gt;Humidity: 60.0 %&lt;br&gt;Precipitation: 501467.1 mm&lt;br&gt;Wind Speed: 15.0 km/h&lt;/div&gt;`)[0];\n",
       "                popup_08b62e876f659f5ef2f78e8bee16ff64.setContent(html_b477c5204dd301d1a95acce17b0217d6);\n",
       "            \n",
       "        \n",
       "\n",
       "        marker_efd3ba0cfa295bac80d39dff020f22b8.bindPopup(popup_08b62e876f659f5ef2f78e8bee16ff64)\n",
       "        ;\n",
       "\n",
       "        \n",
       "    \n",
       "    \n",
       "                marker_efd3ba0cfa295bac80d39dff020f22b8.setIcon(icon_df908f3cf08e5dcd1e184fd2932be686);\n",
       "            \n",
       "    \n",
       "            var marker_f172ce3c07e0b1c4a63ebddfe344cb7d = L.marker(\n",
       "                [33.4484, -112.074],\n",
       "                {\n",
       "}\n",
       "            ).addTo(map_e1a4368a8398afc72d13d23214678d09);\n",
       "        \n",
       "    \n",
       "            var icon_33fa87828a171dc9f018650d201dd758 = L.AwesomeMarkers.icon(\n",
       "                {\n",
       "  &quot;markerColor&quot;: &quot;orange&quot;,\n",
       "  &quot;iconColor&quot;: &quot;white&quot;,\n",
       "  &quot;icon&quot;: &quot;info-sign&quot;,\n",
       "  &quot;prefix&quot;: &quot;glyphicon&quot;,\n",
       "  &quot;extraClasses&quot;: &quot;fa-rotate-0&quot;,\n",
       "}\n",
       "            );\n",
       "        \n",
       "    \n",
       "        var popup_3611d3261ac50f239b5f29812b3dd7f7 = L.popup({\n",
       "  &quot;maxWidth&quot;: &quot;100%&quot;,\n",
       "});\n",
       "\n",
       "        \n",
       "            \n",
       "                var html_1f8c6ff51152ab2040f2d53f039fd9da = $(`&lt;div id=&quot;html_1f8c6ff51152ab2040f2d53f039fd9da&quot; style=&quot;width: 100.0%; height: 100.0%;&quot;&gt;Location: Phoenix&lt;br&gt;Temp: 12.8 °C&lt;br&gt;Humidity: 60.0 %&lt;br&gt;Precipitation: 610020.8 mm&lt;br&gt;Wind Speed: 15.0 km/h&lt;/div&gt;`)[0];\n",
       "                popup_3611d3261ac50f239b5f29812b3dd7f7.setContent(html_1f8c6ff51152ab2040f2d53f039fd9da);\n",
       "            \n",
       "        \n",
       "\n",
       "        marker_f172ce3c07e0b1c4a63ebddfe344cb7d.bindPopup(popup_3611d3261ac50f239b5f29812b3dd7f7)\n",
       "        ;\n",
       "\n",
       "        \n",
       "    \n",
       "    \n",
       "                marker_f172ce3c07e0b1c4a63ebddfe344cb7d.setIcon(icon_33fa87828a171dc9f018650d201dd758);\n",
       "            \n",
       "    \n",
       "            var marker_d255f1b34eae25e9cdff17a8f6311ac0 = L.marker(\n",
       "                [29.4241, -98.4936],\n",
       "                {\n",
       "}\n",
       "            ).addTo(map_e1a4368a8398afc72d13d23214678d09);\n",
       "        \n",
       "    \n",
       "            var icon_dc79e3e07096dab1e8114f299f5d8877 = L.AwesomeMarkers.icon(\n",
       "                {\n",
       "  &quot;markerColor&quot;: &quot;darkblue&quot;,\n",
       "  &quot;iconColor&quot;: &quot;white&quot;,\n",
       "  &quot;icon&quot;: &quot;info-sign&quot;,\n",
       "  &quot;prefix&quot;: &quot;glyphicon&quot;,\n",
       "  &quot;extraClasses&quot;: &quot;fa-rotate-0&quot;,\n",
       "}\n",
       "            );\n",
       "        \n",
       "    \n",
       "        var popup_5059a01c3c1cf40028284dad43e2ef61 = L.popup({\n",
       "  &quot;maxWidth&quot;: &quot;100%&quot;,\n",
       "});\n",
       "\n",
       "        \n",
       "            \n",
       "                var html_f1c1d1bf7829199f8bfa7f39b0f5ec0e = $(`&lt;div id=&quot;html_f1c1d1bf7829199f8bfa7f39b0f5ec0e&quot; style=&quot;width: 100.0%; height: 100.0%;&quot;&gt;Location: San Antonio&lt;br&gt;Temp: 15.0 °C&lt;br&gt;Humidity: 59.9 %&lt;br&gt;Precipitation: 500618.8 mm&lt;br&gt;Wind Speed: 15.0 km/h&lt;/div&gt;`)[0];\n",
       "                popup_5059a01c3c1cf40028284dad43e2ef61.setContent(html_f1c1d1bf7829199f8bfa7f39b0f5ec0e);\n",
       "            \n",
       "        \n",
       "\n",
       "        marker_d255f1b34eae25e9cdff17a8f6311ac0.bindPopup(popup_5059a01c3c1cf40028284dad43e2ef61)\n",
       "        ;\n",
       "\n",
       "        \n",
       "    \n",
       "    \n",
       "                marker_d255f1b34eae25e9cdff17a8f6311ac0.setIcon(icon_dc79e3e07096dab1e8114f299f5d8877);\n",
       "            \n",
       "    \n",
       "            var marker_bdcd03e87401056a0f280f91cd559adb = L.marker(\n",
       "                [32.7157, -117.1611],\n",
       "                {\n",
       "}\n",
       "            ).addTo(map_e1a4368a8398afc72d13d23214678d09);\n",
       "        \n",
       "    \n",
       "            var icon_bd97b7479b9316d75f207ad542e27aa3 = L.AwesomeMarkers.icon(\n",
       "                {\n",
       "  &quot;markerColor&quot;: &quot;green&quot;,\n",
       "  &quot;iconColor&quot;: &quot;white&quot;,\n",
       "  &quot;icon&quot;: &quot;info-sign&quot;,\n",
       "  &quot;prefix&quot;: &quot;glyphicon&quot;,\n",
       "  &quot;extraClasses&quot;: &quot;fa-rotate-0&quot;,\n",
       "}\n",
       "            );\n",
       "        \n",
       "    \n",
       "        var popup_4736f77df83a80d60a05da6018d209bc = L.popup({\n",
       "  &quot;maxWidth&quot;: &quot;100%&quot;,\n",
       "});\n",
       "\n",
       "        \n",
       "            \n",
       "                var html_715547fd91f63e4d85f0c532922deb1c = $(`&lt;div id=&quot;html_715547fd91f63e4d85f0c532922deb1c&quot; style=&quot;width: 100.0%; height: 100.0%;&quot;&gt;Location: San Diego&lt;br&gt;Temp: 14.9 °C&lt;br&gt;Humidity: 60.1 %&lt;br&gt;Precipitation: 499527.8 mm&lt;br&gt;Wind Speed: 15.0 km/h&lt;/div&gt;`)[0];\n",
       "                popup_4736f77df83a80d60a05da6018d209bc.setContent(html_715547fd91f63e4d85f0c532922deb1c);\n",
       "            \n",
       "        \n",
       "\n",
       "        marker_bdcd03e87401056a0f280f91cd559adb.bindPopup(popup_4736f77df83a80d60a05da6018d209bc)\n",
       "        ;\n",
       "\n",
       "        \n",
       "    \n",
       "    \n",
       "                marker_bdcd03e87401056a0f280f91cd559adb.setIcon(icon_bd97b7479b9316d75f207ad542e27aa3);\n",
       "            \n",
       "    \n",
       "            var marker_586e9bc3b09351636dc5158b4a2d6055 = L.marker(\n",
       "                [37.3382, -121.8863],\n",
       "                {\n",
       "}\n",
       "            ).addTo(map_e1a4368a8398afc72d13d23214678d09);\n",
       "        \n",
       "    \n",
       "            var icon_ba325b7ff302631fce07a28f92004d91 = L.AwesomeMarkers.icon(\n",
       "                {\n",
       "  &quot;markerColor&quot;: &quot;black&quot;,\n",
       "  &quot;iconColor&quot;: &quot;white&quot;,\n",
       "  &quot;icon&quot;: &quot;info-sign&quot;,\n",
       "  &quot;prefix&quot;: &quot;glyphicon&quot;,\n",
       "  &quot;extraClasses&quot;: &quot;fa-rotate-0&quot;,\n",
       "}\n",
       "            );\n",
       "        \n",
       "    \n",
       "        var popup_7327de022c4f443dbaf2fed5b5c3e097 = L.popup({\n",
       "  &quot;maxWidth&quot;: &quot;100%&quot;,\n",
       "});\n",
       "\n",
       "        \n",
       "            \n",
       "                var html_8ff93dca5537583c7e082fa7882558a8 = $(`&lt;div id=&quot;html_8ff93dca5537583c7e082fa7882558a8&quot; style=&quot;width: 100.0%; height: 100.0%;&quot;&gt;Location: San Jose&lt;br&gt;Temp: 15.0 °C&lt;br&gt;Humidity: 60.0 %&lt;br&gt;Precipitation: 498056.6 mm&lt;br&gt;Wind Speed: 15.0 km/h&lt;/div&gt;`)[0];\n",
       "                popup_7327de022c4f443dbaf2fed5b5c3e097.setContent(html_8ff93dca5537583c7e082fa7882558a8);\n",
       "            \n",
       "        \n",
       "\n",
       "        marker_586e9bc3b09351636dc5158b4a2d6055.bindPopup(popup_7327de022c4f443dbaf2fed5b5c3e097)\n",
       "        ;\n",
       "\n",
       "        \n",
       "    \n",
       "    \n",
       "                marker_586e9bc3b09351636dc5158b4a2d6055.setIcon(icon_ba325b7ff302631fce07a28f92004d91);\n",
       "            \n",
       "&lt;/script&gt;\n",
       "&lt;/html&gt;\" style=\"position:absolute;width:100%;height:100%;left:0;top:0;border:none !important;\" allowfullscreen webkitallowfullscreen mozallowfullscreen></iframe></div></div>"
      ],
      "text/plain": [
       "<folium.folium.Map at 0x1bb2037ede0>"
      ]
     },
     "metadata": {},
     "output_type": "display_data"
    }
   ],
   "source": [
    "#Filter the DataFrame to include only specified locations\n",
    "filtered_data = aggregated_data[aggregated_data['Location'].isin(coordinates.keys())]\n",
    "\n",
    "# Create a Folium map centered around North America\n",
    "m = folium.Map(location=[37.0, -95.0], zoom_start=4)  # Centered on the continental US\n",
    "\n",
    "# Define colors for each location\n",
    "color_map = {\n",
    "    'Dallas': 'blue',\n",
    "    'Phoenix': 'orange',\n",
    "    'San Diego': 'green',\n",
    "    'Chicago': 'red',\n",
    "    'Houston': 'purple',\n",
    "    'San Antonio': 'darkblue',\n",
    "    'New York': 'darkgreen',\n",
    "    'Philadelphia': 'darkred',\n",
    "    'San Jose': 'black',\n",
    "    'Los Angeles': 'yellow'\n",
    "}\n",
    "\n",
    "# Add markers for each location with specific colors\n",
    "for _, row in filtered_data.iterrows():\n",
    "    if row['Location'] in color_map:\n",
    "        folium.Marker(\n",
    "            location=[coordinates[row['Location']][0], coordinates[row['Location']][1]],\n",
    "            popup=f\"Location: {row['Location']}<br>\"\n",
    "                  f\"Temp: {row['Temperature(C)']:.1f} °C<br>\"\n",
    "                  f\"Humidity: {row['Humidity(pct)']:.1f} %<br>\"\n",
    "                  f\"Precipitation: {row['Precipitation(mm)']:.1f} mm<br>\"\n",
    "                  f\"Wind Speed: {row['Wind_Speed(km/h)']:.1f} km/h\",\n",
    "            icon=folium.Icon(color=color_map[row['Location']])\n",
    "        ).add_to(m)\n",
    "\n",
    "# Add a legend to the map with clickable links\n",
    "legend_html = '''\n",
    "<div style=\"position: fixed; \n",
    "            top: 10px; left: 10px; width: 150px; height: auto; \n",
    "            border:2px solid grey; z-index:1000; font-size:14px;\n",
    "            background-color: white;\">\n",
    "    <p style=\"text-align: center; font-weight: bold;\">Locations Legend</p>\n",
    "'''\n",
    "\n",
    "# Add clickable locations to the legend\n",
    "for location, color in color_map.items():\n",
    "    lat, lon = coordinates[location]\n",
    "    legend_html += f'<p><a href=\"#\" onclick=\"map.setView([{lat}, {lon}], 8);\" style=\"color: {color};\">{location}</a></p>'\n",
    "\n",
    "legend_html += '</div>'\n",
    "\n",
    "# Add the legend to the map\n",
    "m.get_root().html.add_child(folium.Element(legend_html))\n",
    "\n",
    "# Display the map in a Jupyter Notebook\n",
    "display(m)\n",
    "\n",
    "# Save the map to an HTML file (optional)\n",
    "m.save('weather_analysis_map.html')"
   ]
  },
  {
   "cell_type": "code",
   "execution_count": 189,
   "id": "7487cf13-bcee-46da-a822-b4266c8f752e",
   "metadata": {},
   "outputs": [
    {
     "data": {
      "image/png": "[encoded data removed]",
      "text/plain": [
       "<Figure size 1200x1000 with 4 Axes>"
      ]
     },
     "metadata": {},
     "output_type": "display_data"
    }
   ],
   "source": [
    "# Create a standalone Matplotlib map\n",
    "# Generate a bar chart for the aggregated data\n",
    "fig, axs = plt.subplots(2, 2, figsize=(12, 10))\n",
    "\n",
    "# Temperature\n",
    "axs[0, 0].bar(filtered_data['Location'], filtered_data['Temperature(C)'], color='blue')\n",
    "axs[0, 0].set_title('Average Temperature by Location')\n",
    "axs[0, 0].set_ylabel('Temperature (°C)')\n",
    "axs[0, 0].tick_params(axis='x', rotation=45)\n",
    "\n",
    "# Humidity\n",
    "axs[0, 1].bar(filtered_data['Location'], filtered_data['Humidity(pct)'], color='orange')\n",
    "axs[0, 1].set_title('Average Humidity by Location')\n",
    "axs[0, 1].set_ylabel('Humidity (%)')\n",
    "axs[0, 1].tick_params(axis='x', rotation=45)\n",
    "\n",
    "# Precipitation\n",
    "axs[1, 0].bar(filtered_data['Location'], filtered_data['Precipitation(mm)'], color='green')\n",
    "axs[1, 0].set_title('Total Precipitation by Location')\n",
    "axs[1, 0].set_ylabel('Precipitation (mm)')\n",
    "axs[1, 0].tick_params(axis='x', rotation=45)\n",
    "\n",
    "# Wind Speed\n",
    "axs[1, 1].bar(filtered_data['Location'], filtered_data['Wind_Speed(km/h)'], color='red')\n",
    "axs[1, 1].set_title('Average Wind Speed by Location')\n",
    "axs[1, 1].set_ylabel('Wind Speed (km/h)')\n",
    "axs[1, 1].tick_params(axis='x', rotation=45)\n",
    "\n",
    "plt.tight_layout()\n",
    "\n",
    "# Save the Matplotlib figure to an image file\n",
    "matplotlib_map_file = 'weather_analysis_map.png'\n",
    "plt.savefig(matplotlib_map_file)\n",
    "plt.show()"
   ]
  },
  {
   "cell_type": "code",
   "execution_count": 190,
   "id": "7d5836a2-31b4-455c-954f-cff836109ecd",
   "metadata": {},
   "outputs": [
    {
     "data": {
      "application/vnd.plotly.v1+json": {
       "config": {
        "plotlyServerURL": "https://plot.ly"
       },
       "data": [
        {
         "alignmentgroup": "True",
         "hovertemplate": "Location=%{x}<br>Total Crop Yield=%{marker.color}<extra></extra>",
         "legendgroup": "",
         "marker": {
          "color": [
           10016.400000000001,
           19987.2,
           182138.32,
           60952.42,
           129963.6,
           155487.52623804,
           165708.334748597,
           369564.772700934,
           69841.79999999999,
           157284.225
          ],
          "coloraxis": "coloraxis",
          "pattern": {
           "shape": ""
          }
         },
         "name": "",
         "offsetgroup": "",
         "orientation": "v",
         "showlegend": false,
         "textposition": "auto",
         "type": "bar",
         "x": [
          "Chicago",
          "Dallas",
          "Houston",
          "Los Angeles",
          "New York",
          "Philadelphia",
          "Phoenix",
          "San Antonio",
          "San Diego",
          "San Jose"
         ],
         "xaxis": "x",
         "y": [
          10016.400000000001,
          19987.2,
          182138.32,
          60952.42,
          129963.6,
          155487.52623804,
          165708.334748597,
          369564.772700934,
          69841.79999999999,
          157284.225
         ],
         "yaxis": "y"
        }
       ],
       "layout": {
        "autosize": true,
        "barmode": "relative",
        "coloraxis": {
         "colorbar": {
          "title": {
           "text": "Total Crop Yield"
          }
         },
         "colorscale": [
          [
           0,
           "#0d0887"
          ],
          [
           0.1111111111111111,
           "#46039f"
          ],
          [
           0.2222222222222222,
           "#7201a8"
          ],
          [
           0.3333333333333333,
           "#9c179e"
          ],
          [
           0.4444444444444444,
           "#bd3786"
          ],
          [
           0.5555555555555556,
           "#d8576b"
          ],
          [
           0.6666666666666666,
           "#ed7953"
          ],
          [
           0.7777777777777778,
           "#fb9f3a"
          ],
          [
           0.8888888888888888,
           "#fdca26"
          ],
          [
           1,
           "#f0f921"
          ]
         ]
        },
        "legend": {
         "tracegroupgap": 0
        },
        "template": {
         "data": {
          "bar": [
           {
            "error_x": {
             "color": "#2a3f5f"
            },
            "error_y": {
             "color": "#2a3f5f"
            },
            "marker": {
             "line": {
              "color": "#E5ECF6",
              "width": 0.5
             },
             "pattern": {
              "fillmode": "overlay",
              "size": 10,
              "solidity": 0.2
             }
            },
            "type": "bar"
           }
          ],
          "barpolar": [
           {
            "marker": {
             "line": {
              "color": "#E5ECF6",
              "width": 0.5
             },
             "pattern": {
              "fillmode": "overlay",
              "size": 10,
              "solidity": 0.2
             }
            },
            "type": "barpolar"
           }
          ],
          "carpet": [
           {
            "aaxis": {
             "endlinecolor": "#2a3f5f",
             "gridcolor": "white",
             "linecolor": "white",
             "minorgridcolor": "white",
             "startlinecolor": "#2a3f5f"
            },
            "baxis": {
             "endlinecolor": "#2a3f5f",
             "gridcolor": "white",
             "linecolor": "white",
             "minorgridcolor": "white",
             "startlinecolor": "#2a3f5f"
            },
            "type": "carpet"
           }
          ],
          "choropleth": [
           {
            "colorbar": {
             "outlinewidth": 0,
             "ticks": ""
            },
            "type": "choropleth"
           }
          ],
          "contour": [
           {
            "colorbar": {
             "outlinewidth": 0,
             "ticks": ""
            },
            "colorscale": [
             [
              0,
              "#0d0887"
             ],
             [
              0.1111111111111111,
              "#46039f"
             ],
             [
              0.2222222222222222,
              "#7201a8"
             ],
             [
              0.3333333333333333,
              "#9c179e"
             ],
             [
              0.4444444444444444,
              "#bd3786"
             ],
             [
              0.5555555555555556,
              "#d8576b"
             ],
             [
              0.6666666666666666,
              "#ed7953"
             ],
             [
              0.7777777777777778,
              "#fb9f3a"
             ],
             [
              0.8888888888888888,
              "#fdca26"
             ],
             [
              1,
              "#f0f921"
             ]
            ],
            "type": "contour"
           }
          ],
          "contourcarpet": [
           {
            "colorbar": {
             "outlinewidth": 0,
             "ticks": ""
            },
            "type": "contourcarpet"
           }
          ],
          "heatmap": [
           {
            "colorbar": {
             "outlinewidth": 0,
             "ticks": ""
            },
            "colorscale": [
             [
              0,
              "#0d0887"
             ],
             [
              0.1111111111111111,
              "#46039f"
             ],
             [
              0.2222222222222222,
              "#7201a8"
             ],
             [
              0.3333333333333333,
              "#9c179e"
             ],
             [
              0.4444444444444444,
              "#bd3786"
             ],
             [
              0.5555555555555556,
              "#d8576b"
             ],
             [
              0.6666666666666666,
              "#ed7953"
             ],
             [
              0.7777777777777778,
              "#fb9f3a"
             ],
             [
              0.8888888888888888,
              "#fdca26"
             ],
             [
              1,
              "#f0f921"
             ]
            ],
            "type": "heatmap"
           }
          ],
          "heatmapgl": [
           {
            "colorbar": {
             "outlinewidth": 0,
             "ticks": ""
            },
            "colorscale": [
             [
              0,
              "#0d0887"
             ],
             [
              0.1111111111111111,
              "#46039f"
             ],
             [
              0.2222222222222222,
              "#7201a8"
             ],
             [
              0.3333333333333333,
              "#9c179e"
             ],
             [
              0.4444444444444444,
              "#bd3786"
             ],
             [
              0.5555555555555556,
              "#d8576b"
             ],
             [
              0.6666666666666666,
              "#ed7953"
             ],
             [
              0.7777777777777778,
              "#fb9f3a"
             ],
             [
              0.8888888888888888,
              "#fdca26"
             ],
             [
              1,
              "#f0f921"
             ]
            ],
            "type": "heatmapgl"
           }
          ],
          "histogram": [
           {
            "marker": {
             "pattern": {
              "fillmode": "overlay",
              "size": 10,
              "solidity": 0.2
             }
            },
            "type": "histogram"
           }
          ],
          "histogram2d": [
           {
            "colorbar": {
             "outlinewidth": 0,
             "ticks": ""
            },
            "colorscale": [
             [
              0,
              "#0d0887"
             ],
             [
              0.1111111111111111,
              "#46039f"
             ],
             [
              0.2222222222222222,
              "#7201a8"
             ],
             [
              0.3333333333333333,
              "#9c179e"
             ],
             [
              0.4444444444444444,
              "#bd3786"
             ],
             [
              0.5555555555555556,
              "#d8576b"
             ],
             [
              0.6666666666666666,
              "#ed7953"
             ],
             [
              0.7777777777777778,
              "#fb9f3a"
             ],
             [
              0.8888888888888888,
              "#fdca26"
             ],
             [
              1,
              "#f0f921"
             ]
            ],
            "type": "histogram2d"
           }
          ],
          "histogram2dcontour": [
           {
            "colorbar": {
             "outlinewidth": 0,
             "ticks": ""
            },
            "colorscale": [
             [
              0,
              "#0d0887"
             ],
             [
              0.1111111111111111,
              "#46039f"
             ],
             [
              0.2222222222222222,
              "#7201a8"
             ],
             [
              0.3333333333333333,
              "#9c179e"
             ],
             [
              0.4444444444444444,
              "#bd3786"
             ],
             [
              0.5555555555555556,
              "#d8576b"
             ],
             [
              0.6666666666666666,
              "#ed7953"
             ],
             [
              0.7777777777777778,
              "#fb9f3a"
             ],
             [
              0.8888888888888888,
              "#fdca26"
             ],
             [
              1,
              "#f0f921"
             ]
            ],
            "type": "histogram2dcontour"
           }
          ],
          "mesh3d": [
           {
            "colorbar": {
             "outlinewidth": 0,
             "ticks": ""
            },
            "type": "mesh3d"
           }
          ],
          "parcoords": [
           {
            "line": {
             "colorbar": {
              "outlinewidth": 0,
              "ticks": ""
             }
            },
            "type": "parcoords"
           }
          ],
          "pie": [
           {
            "automargin": true,
            "type": "pie"
           }
          ],
          "scatter": [
           {
            "fillpattern": {
             "fillmode": "overlay",
             "size": 10,
             "solidity": 0.2
            },
            "type": "scatter"
           }
          ],
          "scatter3d": [
           {
            "line": {
             "colorbar": {
              "outlinewidth": 0,
              "ticks": ""
             }
            },
            "marker": {
             "colorbar": {
              "outlinewidth": 0,
              "ticks": ""
             }
            },
            "type": "scatter3d"
           }
          ],
          "scattercarpet": [
           {
            "marker": {
             "colorbar": {
              "outlinewidth": 0,
              "ticks": ""
             }
            },
            "type": "scattercarpet"
           }
          ],
          "scattergeo": [
           {
            "marker": {
             "colorbar": {
              "outlinewidth": 0,
              "ticks": ""
             }
            },
            "type": "scattergeo"
           }
          ],
          "scattergl": [
           {
            "marker": {
             "colorbar": {
              "outlinewidth": 0,
              "ticks": ""
             }
            },
            "type": "scattergl"
           }
          ],
          "scattermapbox": [
           {
            "marker": {
             "colorbar": {
              "outlinewidth": 0,
              "ticks": ""
             }
            },
            "type": "scattermapbox"
           }
          ],
          "scatterpolar": [
           {
            "marker": {
             "colorbar": {
              "outlinewidth": 0,
              "ticks": ""
             }
            },
            "type": "scatterpolar"
           }
          ],
          "scatterpolargl": [
           {
            "marker": {
             "colorbar": {
              "outlinewidth": 0,
              "ticks": ""
             }
            },
            "type": "scatterpolargl"
           }
          ],
          "scatterternary": [
           {
            "marker": {
             "colorbar": {
              "outlinewidth": 0,
              "ticks": ""
             }
            },
            "type": "scatterternary"
           }
          ],
          "surface": [
           {
            "colorbar": {
             "outlinewidth": 0,
             "ticks": ""
            },
            "colorscale": [
             [
              0,
              "#0d0887"
             ],
             [
              0.1111111111111111,
              "#46039f"
             ],
             [
              0.2222222222222222,
              "#7201a8"
             ],
             [
              0.3333333333333333,
              "#9c179e"
             ],
             [
              0.4444444444444444,
              "#bd3786"
             ],
             [
              0.5555555555555556,
              "#d8576b"
             ],
             [
              0.6666666666666666,
              "#ed7953"
             ],
             [
              0.7777777777777778,
              "#fb9f3a"
             ],
             [
              0.8888888888888888,
              "#fdca26"
             ],
             [
              1,
              "#f0f921"
             ]
            ],
            "type": "surface"
           }
          ],
          "table": [
           {
            "cells": {
             "fill": {
              "color": "#EBF0F8"
             },
             "line": {
              "color": "white"
             }
            },
            "header": {
             "fill": {
              "color": "#C8D4E3"
             },
             "line": {
              "color": "white"
             }
            },
            "type": "table"
           }
          ]
         },
         "layout": {
          "annotationdefaults": {
           "arrowcolor": "#2a3f5f",
           "arrowhead": 0,
           "arrowwidth": 1
          },
          "autotypenumbers": "strict",
          "coloraxis": {
           "colorbar": {
            "outlinewidth": 0,
            "ticks": ""
           }
          },
          "colorscale": {
           "diverging": [
            [
             0,
             "#8e0152"
            ],
            [
             0.1,
             "#c51b7d"
            ],
            [
             0.2,
             "#de77ae"
            ],
            [
             0.3,
             "#f1b6da"
            ],
            [
             0.4,
             "#fde0ef"
            ],
            [
             0.5,
             "#f7f7f7"
            ],
            [
             0.6,
             "#e6f5d0"
            ],
            [
             0.7,
             "#b8e186"
            ],
            [
             0.8,
             "#7fbc41"
            ],
            [
             0.9,
             "#4d9221"
            ],
            [
             1,
             "#276419"
            ]
           ],
           "sequential": [
            [
             0,
             "#0d0887"
            ],
            [
             0.1111111111111111,
             "#46039f"
            ],
            [
             0.2222222222222222,
             "#7201a8"
            ],
            [
             0.3333333333333333,
             "#9c179e"
            ],
            [
             0.4444444444444444,
             "#bd3786"
            ],
            [
             0.5555555555555556,
             "#d8576b"
            ],
            [
             0.6666666666666666,
             "#ed7953"
            ],
            [
             0.7777777777777778,
             "#fb9f3a"
            ],
            [
             0.8888888888888888,
             "#fdca26"
            ],
            [
             1,
             "#f0f921"
            ]
           ],
           "sequentialminus": [
            [
             0,
             "#0d0887"
            ],
            [
             0.1111111111111111,
             "#46039f"
            ],
            [
             0.2222222222222222,
             "#7201a8"
            ],
            [
             0.3333333333333333,
             "#9c179e"
            ],
            [
             0.4444444444444444,
             "#bd3786"
            ],
            [
             0.5555555555555556,
             "#d8576b"
            ],
            [
             0.6666666666666666,
             "#ed7953"
            ],
            [
             0.7777777777777778,
             "#fb9f3a"
            ],
            [
             0.8888888888888888,
             "#fdca26"
            ],
            [
             1,
             "#f0f921"
            ]
           ]
          },
          "colorway": [
           "#636efa",
           "#EF553B",
           "#00cc96",
           "#ab63fa",
           "#FFA15A",
           "#19d3f3",
           "#FF6692",
           "#B6E880",
           "#FF97FF",
           "#FECB52"
          ],
          "font": {
           "color": "#2a3f5f"
          },
          "geo": {
           "bgcolor": "white",
           "lakecolor": "white",
           "landcolor": "#E5ECF6",
           "showlakes": true,
           "showland": true,
           "subunitcolor": "white"
          },
          "hoverlabel": {
           "align": "left"
          },
          "hovermode": "closest",
          "mapbox": {
           "style": "light"
          },
          "paper_bgcolor": "white",
          "plot_bgcolor": "#E5ECF6",
          "polar": {
           "angularaxis": {
            "gridcolor": "white",
            "linecolor": "white",
            "ticks": ""
           },
           "bgcolor": "#E5ECF6",
           "radialaxis": {
            "gridcolor": "white",
            "linecolor": "white",
            "ticks": ""
           }
          },
          "scene": {
           "xaxis": {
            "backgroundcolor": "#E5ECF6",
            "gridcolor": "white",
            "gridwidth": 2,
            "linecolor": "white",
            "showbackground": true,
            "ticks": "",
            "zerolinecolor": "white"
           },
           "yaxis": {
            "backgroundcolor": "#E5ECF6",
            "gridcolor": "white",
            "gridwidth": 2,
            "linecolor": "white",
            "showbackground": true,
            "ticks": "",
            "zerolinecolor": "white"
           },
           "zaxis": {
            "backgroundcolor": "#E5ECF6",
            "gridcolor": "white",
            "gridwidth": 2,
            "linecolor": "white",
            "showbackground": true,
            "ticks": "",
            "zerolinecolor": "white"
           }
          },
          "shapedefaults": {
           "line": {
            "color": "#2a3f5f"
           }
          },
          "ternary": {
           "aaxis": {
            "gridcolor": "white",
            "linecolor": "white",
            "ticks": ""
           },
           "baxis": {
            "gridcolor": "white",
            "linecolor": "white",
            "ticks": ""
           },
           "bgcolor": "#E5ECF6",
           "caxis": {
            "gridcolor": "white",
            "linecolor": "white",
            "ticks": ""
           }
          },
          "title": {
           "x": 0.05
          },
          "xaxis": {
           "automargin": true,
           "gridcolor": "white",
           "linecolor": "white",
           "ticks": "",
           "title": {
            "standoff": 15
           },
           "zerolinecolor": "white",
           "zerolinewidth": 2
          },
          "yaxis": {
           "automargin": true,
           "gridcolor": "white",
           "linecolor": "white",
           "ticks": "",
           "title": {
            "standoff": 15
           },
           "zerolinecolor": "white",
           "zerolinewidth": 2
          }
         }
        },
        "title": {
         "text": "Total Crop Yield by Location"
        },
        "xaxis": {
         "anchor": "y",
         "autorange": true,
         "domain": [
          0,
          1
         ],
         "range": [
          -0.5,
          9.5
         ],
         "title": {
          "text": "Location"
         },
         "type": "category"
        },
        "yaxis": {
         "anchor": "x",
         "autorange": true,
         "domain": [
          0,
          1
         ],
         "range": [
          0,
          389015.55021150946
         ],
         "title": {
          "text": "Total Crop Yield"
         },
         "type": "linear"
        }
       }
      },
      "image/png": "[encoded data removed]",
      "text/html": [
       "<div>                            <div id=\"4dff026b-2f03-43f1-abf3-50bc8644be70\" class=\"plotly-graph-div\" style=\"height:525px; width:100%;\"></div>            <script type=\"text/javascript\">                require([\"plotly\"], function(Plotly) {                    window.PLOTLYENV=window.PLOTLYENV || {};                                    if (document.getElementById(\"4dff026b-2f03-43f1-abf3-50bc8644be70\")) {                    Plotly.newPlot(                        \"4dff026b-2f03-43f1-abf3-50bc8644be70\",                        [{\"alignmentgroup\":\"True\",\"hovertemplate\":\"Location=%{x}\\u003cbr\\u003eTotal Crop Yield=%{marker.color}\\u003cextra\\u003e\\u003c\\u002fextra\\u003e\",\"legendgroup\":\"\",\"marker\":{\"color\":[10016.400000000001,19987.2,182138.32,60952.42,129963.6,155487.52623804,165708.334748597,369564.772700934,69841.79999999999,157284.225],\"coloraxis\":\"coloraxis\",\"pattern\":{\"shape\":\"\"}},\"name\":\"\",\"offsetgroup\":\"\",\"orientation\":\"v\",\"showlegend\":false,\"textposition\":\"auto\",\"x\":[\"Chicago\",\"Dallas\",\"Houston\",\"Los Angeles\",\"New York\",\"Philadelphia\",\"Phoenix\",\"San Antonio\",\"San Diego\",\"San Jose\"],\"xaxis\":\"x\",\"y\":[10016.400000000001,19987.2,182138.32,60952.42,129963.6,155487.52623804,165708.334748597,369564.772700934,69841.79999999999,157284.225],\"yaxis\":\"y\",\"type\":\"bar\"}],                        {\"template\":{\"data\":{\"histogram2dcontour\":[{\"type\":\"histogram2dcontour\",\"colorbar\":{\"outlinewidth\":0,\"ticks\":\"\"},\"colorscale\":[[0.0,\"#0d0887\"],[0.1111111111111111,\"#46039f\"],[0.2222222222222222,\"#7201a8\"],[0.3333333333333333,\"#9c179e\"],[0.4444444444444444,\"#bd3786\"],[0.5555555555555556,\"#d8576b\"],[0.6666666666666666,\"#ed7953\"],[0.7777777777777778,\"#fb9f3a\"],[0.8888888888888888,\"#fdca26\"],[1.0,\"#f0f921\"]]}],\"choropleth\":[{\"type\":\"choropleth\",\"colorbar\":{\"outlinewidth\":0,\"ticks\":\"\"}}],\"histogram2d\":[{\"type\":\"histogram2d\",\"colorbar\":{\"outlinewidth\":0,\"ticks\":\"\"},\"colorscale\":[[0.0,\"#0d0887\"],[0.1111111111111111,\"#46039f\"],[0.2222222222222222,\"#7201a8\"],[0.3333333333333333,\"#9c179e\"],[0.4444444444444444,\"#bd3786\"],[0.5555555555555556,\"#d8576b\"],[0.6666666666666666,\"#ed7953\"],[0.7777777777777778,\"#fb9f3a\"],[0.8888888888888888,\"#fdca26\"],[1.0,\"#f0f921\"]]}],\"heatmap\":[{\"type\":\"heatmap\",\"colorbar\":{\"outlinewidth\":0,\"ticks\":\"\"},\"colorscale\":[[0.0,\"#0d0887\"],[0.1111111111111111,\"#46039f\"],[0.2222222222222222,\"#7201a8\"],[0.3333333333333333,\"#9c179e\"],[0.4444444444444444,\"#bd3786\"],[0.5555555555555556,\"#d8576b\"],[0.6666666666666666,\"#ed7953\"],[0.7777777777777778,\"#fb9f3a\"],[0.8888888888888888,\"#fdca26\"],[1.0,\"#f0f921\"]]}],\"heatmapgl\":[{\"type\":\"heatmapgl\",\"colorbar\":{\"outlinewidth\":0,\"ticks\":\"\"},\"colorscale\":[[0.0,\"#0d0887\"],[0.1111111111111111,\"#46039f\"],[0.2222222222222222,\"#7201a8\"],[0.3333333333333333,\"#9c179e\"],[0.4444444444444444,\"#bd3786\"],[0.5555555555555556,\"#d8576b\"],[0.6666666666666666,\"#ed7953\"],[0.7777777777777778,\"#fb9f3a\"],[0.8888888888888888,\"#fdca26\"],[1.0,\"#f0f921\"]]}],\"contourcarpet\":[{\"type\":\"contourcarpet\",\"colorbar\":{\"outlinewidth\":0,\"ticks\":\"\"}}],\"contour\":[{\"type\":\"contour\",\"colorbar\":{\"outlinewidth\":0,\"ticks\":\"\"},\"colorscale\":[[0.0,\"#0d0887\"],[0.1111111111111111,\"#46039f\"],[0.2222222222222222,\"#7201a8\"],[0.3333333333333333,\"#9c179e\"],[0.4444444444444444,\"#bd3786\"],[0.5555555555555556,\"#d8576b\"],[0.6666666666666666,\"#ed7953\"],[0.7777777777777778,\"#fb9f3a\"],[0.8888888888888888,\"#fdca26\"],[1.0,\"#f0f921\"]]}],\"surface\":[{\"type\":\"surface\",\"colorbar\":{\"outlinewidth\":0,\"ticks\":\"\"},\"colorscale\":[[0.0,\"#0d0887\"],[0.1111111111111111,\"#46039f\"],[0.2222222222222222,\"#7201a8\"],[0.3333333333333333,\"#9c179e\"],[0.4444444444444444,\"#bd3786\"],[0.5555555555555556,\"#d8576b\"],[0.6666666666666666,\"#ed7953\"],[0.7777777777777778,\"#fb9f3a\"],[0.8888888888888888,\"#fdca26\"],[1.0,\"#f0f921\"]]}],\"mesh3d\":[{\"type\":\"mesh3d\",\"colorbar\":{\"outlinewidth\":0,\"ticks\":\"\"}}],\"scatter\":[{\"fillpattern\":{\"fillmode\":\"overlay\",\"size\":10,\"solidity\":0.2},\"type\":\"scatter\"}],\"parcoords\":[{\"type\":\"parcoords\",\"line\":{\"colorbar\":{\"outlinewidth\":0,\"ticks\":\"\"}}}],\"scatterpolargl\":[{\"type\":\"scatterpolargl\",\"marker\":{\"colorbar\":{\"outlinewidth\":0,\"ticks\":\"\"}}}],\"bar\":[{\"error_x\":{\"color\":\"#2a3f5f\"},\"error_y\":{\"color\":\"#2a3f5f\"},\"marker\":{\"line\":{\"color\":\"#E5ECF6\",\"width\":0.5},\"pattern\":{\"fillmode\":\"overlay\",\"size\":10,\"solidity\":0.2}},\"type\":\"bar\"}],\"scattergeo\":[{\"type\":\"scattergeo\",\"marker\":{\"colorbar\":{\"outlinewidth\":0,\"ticks\":\"\"}}}],\"scatterpolar\":[{\"type\":\"scatterpolar\",\"marker\":{\"colorbar\":{\"outlinewidth\":0,\"ticks\":\"\"}}}],\"histogram\":[{\"marker\":{\"pattern\":{\"fillmode\":\"overlay\",\"size\":10,\"solidity\":0.2}},\"type\":\"histogram\"}],\"scattergl\":[{\"type\":\"scattergl\",\"marker\":{\"colorbar\":{\"outlinewidth\":0,\"ticks\":\"\"}}}],\"scatter3d\":[{\"type\":\"scatter3d\",\"line\":{\"colorbar\":{\"outlinewidth\":0,\"ticks\":\"\"}},\"marker\":{\"colorbar\":{\"outlinewidth\":0,\"ticks\":\"\"}}}],\"scattermapbox\":[{\"type\":\"scattermapbox\",\"marker\":{\"colorbar\":{\"outlinewidth\":0,\"ticks\":\"\"}}}],\"scatterternary\":[{\"type\":\"scatterternary\",\"marker\":{\"colorbar\":{\"outlinewidth\":0,\"ticks\":\"\"}}}],\"scattercarpet\":[{\"type\":\"scattercarpet\",\"marker\":{\"colorbar\":{\"outlinewidth\":0,\"ticks\":\"\"}}}],\"carpet\":[{\"aaxis\":{\"endlinecolor\":\"#2a3f5f\",\"gridcolor\":\"white\",\"linecolor\":\"white\",\"minorgridcolor\":\"white\",\"startlinecolor\":\"#2a3f5f\"},\"baxis\":{\"endlinecolor\":\"#2a3f5f\",\"gridcolor\":\"white\",\"linecolor\":\"white\",\"minorgridcolor\":\"white\",\"startlinecolor\":\"#2a3f5f\"},\"type\":\"carpet\"}],\"table\":[{\"cells\":{\"fill\":{\"color\":\"#EBF0F8\"},\"line\":{\"color\":\"white\"}},\"header\":{\"fill\":{\"color\":\"#C8D4E3\"},\"line\":{\"color\":\"white\"}},\"type\":\"table\"}],\"barpolar\":[{\"marker\":{\"line\":{\"color\":\"#E5ECF6\",\"width\":0.5},\"pattern\":{\"fillmode\":\"overlay\",\"size\":10,\"solidity\":0.2}},\"type\":\"barpolar\"}],\"pie\":[{\"automargin\":true,\"type\":\"pie\"}]},\"layout\":{\"autotypenumbers\":\"strict\",\"colorway\":[\"#636efa\",\"#EF553B\",\"#00cc96\",\"#ab63fa\",\"#FFA15A\",\"#19d3f3\",\"#FF6692\",\"#B6E880\",\"#FF97FF\",\"#FECB52\"],\"font\":{\"color\":\"#2a3f5f\"},\"hovermode\":\"closest\",\"hoverlabel\":{\"align\":\"left\"},\"paper_bgcolor\":\"white\",\"plot_bgcolor\":\"#E5ECF6\",\"polar\":{\"bgcolor\":\"#E5ECF6\",\"angularaxis\":{\"gridcolor\":\"white\",\"linecolor\":\"white\",\"ticks\":\"\"},\"radialaxis\":{\"gridcolor\":\"white\",\"linecolor\":\"white\",\"ticks\":\"\"}},\"ternary\":{\"bgcolor\":\"#E5ECF6\",\"aaxis\":{\"gridcolor\":\"white\",\"linecolor\":\"white\",\"ticks\":\"\"},\"baxis\":{\"gridcolor\":\"white\",\"linecolor\":\"white\",\"ticks\":\"\"},\"caxis\":{\"gridcolor\":\"white\",\"linecolor\":\"white\",\"ticks\":\"\"}},\"coloraxis\":{\"colorbar\":{\"outlinewidth\":0,\"ticks\":\"\"}},\"colorscale\":{\"sequential\":[[0.0,\"#0d0887\"],[0.1111111111111111,\"#46039f\"],[0.2222222222222222,\"#7201a8\"],[0.3333333333333333,\"#9c179e\"],[0.4444444444444444,\"#bd3786\"],[0.5555555555555556,\"#d8576b\"],[0.6666666666666666,\"#ed7953\"],[0.7777777777777778,\"#fb9f3a\"],[0.8888888888888888,\"#fdca26\"],[1.0,\"#f0f921\"]],\"sequentialminus\":[[0.0,\"#0d0887\"],[0.1111111111111111,\"#46039f\"],[0.2222222222222222,\"#7201a8\"],[0.3333333333333333,\"#9c179e\"],[0.4444444444444444,\"#bd3786\"],[0.5555555555555556,\"#d8576b\"],[0.6666666666666666,\"#ed7953\"],[0.7777777777777778,\"#fb9f3a\"],[0.8888888888888888,\"#fdca26\"],[1.0,\"#f0f921\"]],\"diverging\":[[0,\"#8e0152\"],[0.1,\"#c51b7d\"],[0.2,\"#de77ae\"],[0.3,\"#f1b6da\"],[0.4,\"#fde0ef\"],[0.5,\"#f7f7f7\"],[0.6,\"#e6f5d0\"],[0.7,\"#b8e186\"],[0.8,\"#7fbc41\"],[0.9,\"#4d9221\"],[1,\"#276419\"]]},\"xaxis\":{\"gridcolor\":\"white\",\"linecolor\":\"white\",\"ticks\":\"\",\"title\":{\"standoff\":15},\"zerolinecolor\":\"white\",\"automargin\":true,\"zerolinewidth\":2},\"yaxis\":{\"gridcolor\":\"white\",\"linecolor\":\"white\",\"ticks\":\"\",\"title\":{\"standoff\":15},\"zerolinecolor\":\"white\",\"automargin\":true,\"zerolinewidth\":2},\"scene\":{\"xaxis\":{\"backgroundcolor\":\"#E5ECF6\",\"gridcolor\":\"white\",\"linecolor\":\"white\",\"showbackground\":true,\"ticks\":\"\",\"zerolinecolor\":\"white\",\"gridwidth\":2},\"yaxis\":{\"backgroundcolor\":\"#E5ECF6\",\"gridcolor\":\"white\",\"linecolor\":\"white\",\"showbackground\":true,\"ticks\":\"\",\"zerolinecolor\":\"white\",\"gridwidth\":2},\"zaxis\":{\"backgroundcolor\":\"#E5ECF6\",\"gridcolor\":\"white\",\"linecolor\":\"white\",\"showbackground\":true,\"ticks\":\"\",\"zerolinecolor\":\"white\",\"gridwidth\":2}},\"shapedefaults\":{\"line\":{\"color\":\"#2a3f5f\"}},\"annotationdefaults\":{\"arrowcolor\":\"#2a3f5f\",\"arrowhead\":0,\"arrowwidth\":1},\"geo\":{\"bgcolor\":\"white\",\"landcolor\":\"#E5ECF6\",\"subunitcolor\":\"white\",\"showland\":true,\"showlakes\":true,\"lakecolor\":\"white\"},\"title\":{\"x\":0.05},\"mapbox\":{\"style\":\"light\"}}},\"xaxis\":{\"anchor\":\"y\",\"domain\":[0.0,1.0],\"title\":{\"text\":\"Location\"}},\"yaxis\":{\"anchor\":\"x\",\"domain\":[0.0,1.0],\"title\":{\"text\":\"Total Crop Yield\"}},\"coloraxis\":{\"colorbar\":{\"title\":{\"text\":\"Total Crop Yield\"}},\"colorscale\":[[0.0,\"#0d0887\"],[0.1111111111111111,\"#46039f\"],[0.2222222222222222,\"#7201a8\"],[0.3333333333333333,\"#9c179e\"],[0.4444444444444444,\"#bd3786\"],[0.5555555555555556,\"#d8576b\"],[0.6666666666666666,\"#ed7953\"],[0.7777777777777778,\"#fb9f3a\"],[0.8888888888888888,\"#fdca26\"],[1.0,\"#f0f921\"]]},\"legend\":{\"tracegroupgap\":0},\"title\":{\"text\":\"Total Crop Yield by Location\"},\"barmode\":\"relative\"},                        {\"responsive\": true}                    ).then(function(){\n",
       "                            \n",
       "var gd = document.getElementById('4dff026b-2f03-43f1-abf3-50bc8644be70');\n",
       "var x = new MutationObserver(function (mutations, observer) {{\n",
       "        var display = window.getComputedStyle(gd).display;\n",
       "        if (!display || display === 'none') {{\n",
       "            console.log([gd, 'removed!']);\n",
       "            Plotly.purge(gd);\n",
       "            observer.disconnect();\n",
       "        }}\n",
       "}});\n",
       "\n",
       "// Listen for the removal of the full notebook cells\n",
       "var notebookContainer = gd.closest('#notebook-container');\n",
       "if (notebookContainer) {{\n",
       "    x.observe(notebookContainer, {childList: true});\n",
       "}}\n",
       "\n",
       "// Listen for the clearing of the current output cell\n",
       "var outputEl = gd.closest('.output');\n",
       "if (outputEl) {{\n",
       "    x.observe(outputEl, {childList: true});\n",
       "}}\n",
       "\n",
       "                        })                };                });            </script>        </div>"
      ]
     },
     "metadata": {},
     "output_type": "display_data"
    },
    {
     "data": {
      "application/vnd.plotly.v1+json": {
       "config": {
        "plotlyServerURL": "https://plot.ly"
       },
       "data": [
        {
         "hovertemplate": "Location=%{x}<br>Average Crop Yield=%{y}<extra></extra>",
         "legendgroup": "",
         "line": {
          "color": "#636efa",
          "dash": "solid"
         },
         "marker": {
          "symbol": "circle"
         },
         "mode": "lines+markers",
         "name": "",
         "orientation": "v",
         "showlegend": false,
         "type": "scatter",
         "x": [
          "Chicago",
          "Dallas",
          "Houston",
          "Los Angeles",
          "New York",
          "Philadelphia",
          "Phoenix",
          "San Antonio",
          "San Diego",
          "San Jose"
         ],
         "xaxis": "x",
         "y": [
          0.10000000000000002,
          0.2,
          1.82,
          0.61,
          1.3,
          1.5529806260166599,
          1.653627266498987,
          3.697052607,
          0.6999999999999998,
          1.575
         ],
         "yaxis": "y"
        }
       ],
       "layout": {
        "autosize": true,
        "legend": {
         "tracegroupgap": 0
        },
        "template": {
         "data": {
          "bar": [
           {
            "error_x": {
             "color": "#2a3f5f"
            },
            "error_y": {
             "color": "#2a3f5f"
            },
            "marker": {
             "line": {
              "color": "#E5ECF6",
              "width": 0.5
             },
             "pattern": {
              "fillmode": "overlay",
              "size": 10,
              "solidity": 0.2
             }
            },
            "type": "bar"
           }
          ],
          "barpolar": [
           {
            "marker": {
             "line": {
              "color": "#E5ECF6",
              "width": 0.5
             },
             "pattern": {
              "fillmode": "overlay",
              "size": 10,
              "solidity": 0.2
             }
            },
            "type": "barpolar"
           }
          ],
          "carpet": [
           {
            "aaxis": {
             "endlinecolor": "#2a3f5f",
             "gridcolor": "white",
             "linecolor": "white",
             "minorgridcolor": "white",
             "startlinecolor": "#2a3f5f"
            },
            "baxis": {
             "endlinecolor": "#2a3f5f",
             "gridcolor": "white",
             "linecolor": "white",
             "minorgridcolor": "white",
             "startlinecolor": "#2a3f5f"
            },
            "type": "carpet"
           }
          ],
          "choropleth": [
           {
            "colorbar": {
             "outlinewidth": 0,
             "ticks": ""
            },
            "type": "choropleth"
           }
          ],
          "contour": [
           {
            "colorbar": {
             "outlinewidth": 0,
             "ticks": ""
            },
            "colorscale": [
             [
              0,
              "#0d0887"
             ],
             [
              0.1111111111111111,
              "#46039f"
             ],
             [
              0.2222222222222222,
              "#7201a8"
             ],
             [
              0.3333333333333333,
              "#9c179e"
             ],
             [
              0.4444444444444444,
              "#bd3786"
             ],
             [
              0.5555555555555556,
              "#d8576b"
             ],
             [
              0.6666666666666666,
              "#ed7953"
             ],
             [
              0.7777777777777778,
              "#fb9f3a"
             ],
             [
              0.8888888888888888,
              "#fdca26"
             ],
             [
              1,
              "#f0f921"
             ]
            ],
            "type": "contour"
           }
          ],
          "contourcarpet": [
           {
            "colorbar": {
             "outlinewidth": 0,
             "ticks": ""
            },
            "type": "contourcarpet"
           }
          ],
          "heatmap": [
           {
            "colorbar": {
             "outlinewidth": 0,
             "ticks": ""
            },
            "colorscale": [
             [
              0,
              "#0d0887"
             ],
             [
              0.1111111111111111,
              "#46039f"
             ],
             [
              0.2222222222222222,
              "#7201a8"
             ],
             [
              0.3333333333333333,
              "#9c179e"
             ],
             [
              0.4444444444444444,
              "#bd3786"
             ],
             [
              0.5555555555555556,
              "#d8576b"
             ],
             [
              0.6666666666666666,
              "#ed7953"
             ],
             [
              0.7777777777777778,
              "#fb9f3a"
             ],
             [
              0.8888888888888888,
              "#fdca26"
             ],
             [
              1,
              "#f0f921"
             ]
            ],
            "type": "heatmap"
           }
          ],
          "heatmapgl": [
           {
            "colorbar": {
             "outlinewidth": 0,
             "ticks": ""
            },
            "colorscale": [
             [
              0,
              "#0d0887"
             ],
             [
              0.1111111111111111,
              "#46039f"
             ],
             [
              0.2222222222222222,
              "#7201a8"
             ],
             [
              0.3333333333333333,
              "#9c179e"
             ],
             [
              0.4444444444444444,
              "#bd3786"
             ],
             [
              0.5555555555555556,
              "#d8576b"
             ],
             [
              0.6666666666666666,
              "#ed7953"
             ],
             [
              0.7777777777777778,
              "#fb9f3a"
             ],
             [
              0.8888888888888888,
              "#fdca26"
             ],
             [
              1,
              "#f0f921"
             ]
            ],
            "type": "heatmapgl"
           }
          ],
          "histogram": [
           {
            "marker": {
             "pattern": {
              "fillmode": "overlay",
              "size": 10,
              "solidity": 0.2
             }
            },
            "type": "histogram"
           }
          ],
          "histogram2d": [
           {
            "colorbar": {
             "outlinewidth": 0,
             "ticks": ""
            },
            "colorscale": [
             [
              0,
              "#0d0887"
             ],
             [
              0.1111111111111111,
              "#46039f"
             ],
             [
              0.2222222222222222,
              "#7201a8"
             ],
             [
              0.3333333333333333,
              "#9c179e"
             ],
             [
              0.4444444444444444,
              "#bd3786"
             ],
             [
              0.5555555555555556,
              "#d8576b"
             ],
             [
              0.6666666666666666,
              "#ed7953"
             ],
             [
              0.7777777777777778,
              "#fb9f3a"
             ],
             [
              0.8888888888888888,
              "#fdca26"
             ],
             [
              1,
              "#f0f921"
             ]
            ],
            "type": "histogram2d"
           }
          ],
          "histogram2dcontour": [
           {
            "colorbar": {
             "outlinewidth": 0,
             "ticks": ""
            },
            "colorscale": [
             [
              0,
              "#0d0887"
             ],
             [
              0.1111111111111111,
              "#46039f"
             ],
             [
              0.2222222222222222,
              "#7201a8"
             ],
             [
              0.3333333333333333,
              "#9c179e"
             ],
             [
              0.4444444444444444,
              "#bd3786"
             ],
             [
              0.5555555555555556,
              "#d8576b"
             ],
             [
              0.6666666666666666,
              "#ed7953"
             ],
             [
              0.7777777777777778,
              "#fb9f3a"
             ],
             [
              0.8888888888888888,
              "#fdca26"
             ],
             [
              1,
              "#f0f921"
             ]
            ],
            "type": "histogram2dcontour"
           }
          ],
          "mesh3d": [
           {
            "colorbar": {
             "outlinewidth": 0,
             "ticks": ""
            },
            "type": "mesh3d"
           }
          ],
          "parcoords": [
           {
            "line": {
             "colorbar": {
              "outlinewidth": 0,
              "ticks": ""
             }
            },
            "type": "parcoords"
           }
          ],
          "pie": [
           {
            "automargin": true,
            "type": "pie"
           }
          ],
          "scatter": [
           {
            "fillpattern": {
             "fillmode": "overlay",
             "size": 10,
             "solidity": 0.2
            },
            "type": "scatter"
           }
          ],
          "scatter3d": [
           {
            "line": {
             "colorbar": {
              "outlinewidth": 0,
              "ticks": ""
             }
            },
            "marker": {
             "colorbar": {
              "outlinewidth": 0,
              "ticks": ""
             }
            },
            "type": "scatter3d"
           }
          ],
          "scattercarpet": [
           {
            "marker": {
             "colorbar": {
              "outlinewidth": 0,
              "ticks": ""
             }
            },
            "type": "scattercarpet"
           }
          ],
          "scattergeo": [
           {
            "marker": {
             "colorbar": {
              "outlinewidth": 0,
              "ticks": ""
             }
            },
            "type": "scattergeo"
           }
          ],
          "scattergl": [
           {
            "marker": {
             "colorbar": {
              "outlinewidth": 0,
              "ticks": ""
             }
            },
            "type": "scattergl"
           }
          ],
          "scattermapbox": [
           {
            "marker": {
             "colorbar": {
              "outlinewidth": 0,
              "ticks": ""
             }
            },
            "type": "scattermapbox"
           }
          ],
          "scatterpolar": [
           {
            "marker": {
             "colorbar": {
              "outlinewidth": 0,
              "ticks": ""
             }
            },
            "type": "scatterpolar"
           }
          ],
          "scatterpolargl": [
           {
            "marker": {
             "colorbar": {
              "outlinewidth": 0,
              "ticks": ""
             }
            },
            "type": "scatterpolargl"
           }
          ],
          "scatterternary": [
           {
            "marker": {
             "colorbar": {
              "outlinewidth": 0,
              "ticks": ""
             }
            },
            "type": "scatterternary"
           }
          ],
          "surface": [
           {
            "colorbar": {
             "outlinewidth": 0,
             "ticks": ""
            },
            "colorscale": [
             [
              0,
              "#0d0887"
             ],
             [
              0.1111111111111111,
              "#46039f"
             ],
             [
              0.2222222222222222,
              "#7201a8"
             ],
             [
              0.3333333333333333,
              "#9c179e"
             ],
             [
              0.4444444444444444,
              "#bd3786"
             ],
             [
              0.5555555555555556,
              "#d8576b"
             ],
             [
              0.6666666666666666,
              "#ed7953"
             ],
             [
              0.7777777777777778,
              "#fb9f3a"
             ],
             [
              0.8888888888888888,
              "#fdca26"
             ],
             [
              1,
              "#f0f921"
             ]
            ],
            "type": "surface"
           }
          ],
          "table": [
           {
            "cells": {
             "fill": {
              "color": "#EBF0F8"
             },
             "line": {
              "color": "white"
             }
            },
            "header": {
             "fill": {
              "color": "#C8D4E3"
             },
             "line": {
              "color": "white"
             }
            },
            "type": "table"
           }
          ]
         },
         "layout": {
          "annotationdefaults": {
           "arrowcolor": "#2a3f5f",
           "arrowhead": 0,
           "arrowwidth": 1
          },
          "autotypenumbers": "strict",
          "coloraxis": {
           "colorbar": {
            "outlinewidth": 0,
            "ticks": ""
           }
          },
          "colorscale": {
           "diverging": [
            [
             0,
             "#8e0152"
            ],
            [
             0.1,
             "#c51b7d"
            ],
            [
             0.2,
             "#de77ae"
            ],
            [
             0.3,
             "#f1b6da"
            ],
            [
             0.4,
             "#fde0ef"
            ],
            [
             0.5,
             "#f7f7f7"
            ],
            [
             0.6,
             "#e6f5d0"
            ],
            [
             0.7,
             "#b8e186"
            ],
            [
             0.8,
             "#7fbc41"
            ],
            [
             0.9,
             "#4d9221"
            ],
            [
             1,
             "#276419"
            ]
           ],
           "sequential": [
            [
             0,
             "#0d0887"
            ],
            [
             0.1111111111111111,
             "#46039f"
            ],
            [
             0.2222222222222222,
             "#7201a8"
            ],
            [
             0.3333333333333333,
             "#9c179e"
            ],
            [
             0.4444444444444444,
             "#bd3786"
            ],
            [
             0.5555555555555556,
             "#d8576b"
            ],
            [
             0.6666666666666666,
             "#ed7953"
            ],
            [
             0.7777777777777778,
             "#fb9f3a"
            ],
            [
             0.8888888888888888,
             "#fdca26"
            ],
            [
             1,
             "#f0f921"
            ]
           ],
           "sequentialminus": [
            [
             0,
             "#0d0887"
            ],
            [
             0.1111111111111111,
             "#46039f"
            ],
            [
             0.2222222222222222,
             "#7201a8"
            ],
            [
             0.3333333333333333,
             "#9c179e"
            ],
            [
             0.4444444444444444,
             "#bd3786"
            ],
            [
             0.5555555555555556,
             "#d8576b"
            ],
            [
             0.6666666666666666,
             "#ed7953"
            ],
            [
             0.7777777777777778,
             "#fb9f3a"
            ],
            [
             0.8888888888888888,
             "#fdca26"
            ],
            [
             1,
             "#f0f921"
            ]
           ]
          },
          "colorway": [
           "#636efa",
           "#EF553B",
           "#00cc96",
           "#ab63fa",
           "#FFA15A",
           "#19d3f3",
           "#FF6692",
           "#B6E880",
           "#FF97FF",
           "#FECB52"
          ],
          "font": {
           "color": "#2a3f5f"
          },
          "geo": {
           "bgcolor": "white",
           "lakecolor": "white",
           "landcolor": "#E5ECF6",
           "showlakes": true,
           "showland": true,
           "subunitcolor": "white"
          },
          "hoverlabel": {
           "align": "left"
          },
          "hovermode": "closest",
          "mapbox": {
           "style": "light"
          },
          "paper_bgcolor": "white",
          "plot_bgcolor": "#E5ECF6",
          "polar": {
           "angularaxis": {
            "gridcolor": "white",
            "linecolor": "white",
            "ticks": ""
           },
           "bgcolor": "#E5ECF6",
           "radialaxis": {
            "gridcolor": "white",
            "linecolor": "white",
            "ticks": ""
           }
          },
          "scene": {
           "xaxis": {
            "backgroundcolor": "#E5ECF6",
            "gridcolor": "white",
            "gridwidth": 2,
            "linecolor": "white",
            "showbackground": true,
            "ticks": "",
            "zerolinecolor": "white"
           },
           "yaxis": {
            "backgroundcolor": "#E5ECF6",
            "gridcolor": "white",
            "gridwidth": 2,
            "linecolor": "white",
            "showbackground": true,
            "ticks": "",
            "zerolinecolor": "white"
           },
           "zaxis": {
            "backgroundcolor": "#E5ECF6",
            "gridcolor": "white",
            "gridwidth": 2,
            "linecolor": "white",
            "showbackground": true,
            "ticks": "",
            "zerolinecolor": "white"
           }
          },
          "shapedefaults": {
           "line": {
            "color": "#2a3f5f"
           }
          },
          "ternary": {
           "aaxis": {
            "gridcolor": "white",
            "linecolor": "white",
            "ticks": ""
           },
           "baxis": {
            "gridcolor": "white",
            "linecolor": "white",
            "ticks": ""
           },
           "bgcolor": "#E5ECF6",
           "caxis": {
            "gridcolor": "white",
            "linecolor": "white",
            "ticks": ""
           }
          },
          "title": {
           "x": 0.05
          },
          "xaxis": {
           "automargin": true,
           "gridcolor": "white",
           "linecolor": "white",
           "ticks": "",
           "title": {
            "standoff": 15
           },
           "zerolinecolor": "white",
           "zerolinewidth": 2
          },
          "yaxis": {
           "automargin": true,
           "gridcolor": "white",
           "linecolor": "white",
           "ticks": "",
           "title": {
            "standoff": 15
           },
           "zerolinecolor": "white",
           "zerolinewidth": 2
          }
         }
        },
        "title": {
         "text": "Average Crop Yield by Location"
        },
        "xaxis": {
         "anchor": "y",
         "autorange": true,
         "domain": [
          0,
          1
         ],
         "range": [
          -0.5445791726105564,
          9.544579172610556
         ],
         "title": {
          "text": "Location"
         },
         "type": "category"
        },
        "yaxis": {
         "anchor": "x",
         "autorange": true,
         "domain": [
          0,
          1
         ],
         "range": [
          -0.19684414717961163,
          3.9938967541796115
         ],
         "title": {
          "text": "Average Crop Yield"
         },
         "type": "linear"
        }
       }
      },
      "image/png": "[encoded data removed]",
      "text/html": [
       "<div>                            <div id=\"d4652b02-3ac0-4b4a-b089-c9bce35530c0\" class=\"plotly-graph-div\" style=\"height:525px; width:100%;\"></div>            <script type=\"text/javascript\">                require([\"plotly\"], function(Plotly) {                    window.PLOTLYENV=window.PLOTLYENV || {};                                    if (document.getElementById(\"d4652b02-3ac0-4b4a-b089-c9bce35530c0\")) {                    Plotly.newPlot(                        \"d4652b02-3ac0-4b4a-b089-c9bce35530c0\",                        [{\"hovertemplate\":\"Location=%{x}\\u003cbr\\u003eAverage Crop Yield=%{y}\\u003cextra\\u003e\\u003c\\u002fextra\\u003e\",\"legendgroup\":\"\",\"line\":{\"color\":\"#636efa\",\"dash\":\"solid\"},\"marker\":{\"symbol\":\"circle\"},\"mode\":\"lines+markers\",\"name\":\"\",\"orientation\":\"v\",\"showlegend\":false,\"x\":[\"Chicago\",\"Dallas\",\"Houston\",\"Los Angeles\",\"New York\",\"Philadelphia\",\"Phoenix\",\"San Antonio\",\"San Diego\",\"San Jose\"],\"xaxis\":\"x\",\"y\":[0.10000000000000002,0.2,1.82,0.61,1.3,1.5529806260166599,1.653627266498987,3.697052607,0.6999999999999998,1.575],\"yaxis\":\"y\",\"type\":\"scatter\"}],                        {\"template\":{\"data\":{\"histogram2dcontour\":[{\"type\":\"histogram2dcontour\",\"colorbar\":{\"outlinewidth\":0,\"ticks\":\"\"},\"colorscale\":[[0.0,\"#0d0887\"],[0.1111111111111111,\"#46039f\"],[0.2222222222222222,\"#7201a8\"],[0.3333333333333333,\"#9c179e\"],[0.4444444444444444,\"#bd3786\"],[0.5555555555555556,\"#d8576b\"],[0.6666666666666666,\"#ed7953\"],[0.7777777777777778,\"#fb9f3a\"],[0.8888888888888888,\"#fdca26\"],[1.0,\"#f0f921\"]]}],\"choropleth\":[{\"type\":\"choropleth\",\"colorbar\":{\"outlinewidth\":0,\"ticks\":\"\"}}],\"histogram2d\":[{\"type\":\"histogram2d\",\"colorbar\":{\"outlinewidth\":0,\"ticks\":\"\"},\"colorscale\":[[0.0,\"#0d0887\"],[0.1111111111111111,\"#46039f\"],[0.2222222222222222,\"#7201a8\"],[0.3333333333333333,\"#9c179e\"],[0.4444444444444444,\"#bd3786\"],[0.5555555555555556,\"#d8576b\"],[0.6666666666666666,\"#ed7953\"],[0.7777777777777778,\"#fb9f3a\"],[0.8888888888888888,\"#fdca26\"],[1.0,\"#f0f921\"]]}],\"heatmap\":[{\"type\":\"heatmap\",\"colorbar\":{\"outlinewidth\":0,\"ticks\":\"\"},\"colorscale\":[[0.0,\"#0d0887\"],[0.1111111111111111,\"#46039f\"],[0.2222222222222222,\"#7201a8\"],[0.3333333333333333,\"#9c179e\"],[0.4444444444444444,\"#bd3786\"],[0.5555555555555556,\"#d8576b\"],[0.6666666666666666,\"#ed7953\"],[0.7777777777777778,\"#fb9f3a\"],[0.8888888888888888,\"#fdca26\"],[1.0,\"#f0f921\"]]}],\"heatmapgl\":[{\"type\":\"heatmapgl\",\"colorbar\":{\"outlinewidth\":0,\"ticks\":\"\"},\"colorscale\":[[0.0,\"#0d0887\"],[0.1111111111111111,\"#46039f\"],[0.2222222222222222,\"#7201a8\"],[0.3333333333333333,\"#9c179e\"],[0.4444444444444444,\"#bd3786\"],[0.5555555555555556,\"#d8576b\"],[0.6666666666666666,\"#ed7953\"],[0.7777777777777778,\"#fb9f3a\"],[0.8888888888888888,\"#fdca26\"],[1.0,\"#f0f921\"]]}],\"contourcarpet\":[{\"type\":\"contourcarpet\",\"colorbar\":{\"outlinewidth\":0,\"ticks\":\"\"}}],\"contour\":[{\"type\":\"contour\",\"colorbar\":{\"outlinewidth\":0,\"ticks\":\"\"},\"colorscale\":[[0.0,\"#0d0887\"],[0.1111111111111111,\"#46039f\"],[0.2222222222222222,\"#7201a8\"],[0.3333333333333333,\"#9c179e\"],[0.4444444444444444,\"#bd3786\"],[0.5555555555555556,\"#d8576b\"],[0.6666666666666666,\"#ed7953\"],[0.7777777777777778,\"#fb9f3a\"],[0.8888888888888888,\"#fdca26\"],[1.0,\"#f0f921\"]]}],\"surface\":[{\"type\":\"surface\",\"colorbar\":{\"outlinewidth\":0,\"ticks\":\"\"},\"colorscale\":[[0.0,\"#0d0887\"],[0.1111111111111111,\"#46039f\"],[0.2222222222222222,\"#7201a8\"],[0.3333333333333333,\"#9c179e\"],[0.4444444444444444,\"#bd3786\"],[0.5555555555555556,\"#d8576b\"],[0.6666666666666666,\"#ed7953\"],[0.7777777777777778,\"#fb9f3a\"],[0.8888888888888888,\"#fdca26\"],[1.0,\"#f0f921\"]]}],\"mesh3d\":[{\"type\":\"mesh3d\",\"colorbar\":{\"outlinewidth\":0,\"ticks\":\"\"}}],\"scatter\":[{\"fillpattern\":{\"fillmode\":\"overlay\",\"size\":10,\"solidity\":0.2},\"type\":\"scatter\"}],\"parcoords\":[{\"type\":\"parcoords\",\"line\":{\"colorbar\":{\"outlinewidth\":0,\"ticks\":\"\"}}}],\"scatterpolargl\":[{\"type\":\"scatterpolargl\",\"marker\":{\"colorbar\":{\"outlinewidth\":0,\"ticks\":\"\"}}}],\"bar\":[{\"error_x\":{\"color\":\"#2a3f5f\"},\"error_y\":{\"color\":\"#2a3f5f\"},\"marker\":{\"line\":{\"color\":\"#E5ECF6\",\"width\":0.5},\"pattern\":{\"fillmode\":\"overlay\",\"size\":10,\"solidity\":0.2}},\"type\":\"bar\"}],\"scattergeo\":[{\"type\":\"scattergeo\",\"marker\":{\"colorbar\":{\"outlinewidth\":0,\"ticks\":\"\"}}}],\"scatterpolar\":[{\"type\":\"scatterpolar\",\"marker\":{\"colorbar\":{\"outlinewidth\":0,\"ticks\":\"\"}}}],\"histogram\":[{\"marker\":{\"pattern\":{\"fillmode\":\"overlay\",\"size\":10,\"solidity\":0.2}},\"type\":\"histogram\"}],\"scattergl\":[{\"type\":\"scattergl\",\"marker\":{\"colorbar\":{\"outlinewidth\":0,\"ticks\":\"\"}}}],\"scatter3d\":[{\"type\":\"scatter3d\",\"line\":{\"colorbar\":{\"outlinewidth\":0,\"ticks\":\"\"}},\"marker\":{\"colorbar\":{\"outlinewidth\":0,\"ticks\":\"\"}}}],\"scattermapbox\":[{\"type\":\"scattermapbox\",\"marker\":{\"colorbar\":{\"outlinewidth\":0,\"ticks\":\"\"}}}],\"scatterternary\":[{\"type\":\"scatterternary\",\"marker\":{\"colorbar\":{\"outlinewidth\":0,\"ticks\":\"\"}}}],\"scattercarpet\":[{\"type\":\"scattercarpet\",\"marker\":{\"colorbar\":{\"outlinewidth\":0,\"ticks\":\"\"}}}],\"carpet\":[{\"aaxis\":{\"endlinecolor\":\"#2a3f5f\",\"gridcolor\":\"white\",\"linecolor\":\"white\",\"minorgridcolor\":\"white\",\"startlinecolor\":\"#2a3f5f\"},\"baxis\":{\"endlinecolor\":\"#2a3f5f\",\"gridcolor\":\"white\",\"linecolor\":\"white\",\"minorgridcolor\":\"white\",\"startlinecolor\":\"#2a3f5f\"},\"type\":\"carpet\"}],\"table\":[{\"cells\":{\"fill\":{\"color\":\"#EBF0F8\"},\"line\":{\"color\":\"white\"}},\"header\":{\"fill\":{\"color\":\"#C8D4E3\"},\"line\":{\"color\":\"white\"}},\"type\":\"table\"}],\"barpolar\":[{\"marker\":{\"line\":{\"color\":\"#E5ECF6\",\"width\":0.5},\"pattern\":{\"fillmode\":\"overlay\",\"size\":10,\"solidity\":0.2}},\"type\":\"barpolar\"}],\"pie\":[{\"automargin\":true,\"type\":\"pie\"}]},\"layout\":{\"autotypenumbers\":\"strict\",\"colorway\":[\"#636efa\",\"#EF553B\",\"#00cc96\",\"#ab63fa\",\"#FFA15A\",\"#19d3f3\",\"#FF6692\",\"#B6E880\",\"#FF97FF\",\"#FECB52\"],\"font\":{\"color\":\"#2a3f5f\"},\"hovermode\":\"closest\",\"hoverlabel\":{\"align\":\"left\"},\"paper_bgcolor\":\"white\",\"plot_bgcolor\":\"#E5ECF6\",\"polar\":{\"bgcolor\":\"#E5ECF6\",\"angularaxis\":{\"gridcolor\":\"white\",\"linecolor\":\"white\",\"ticks\":\"\"},\"radialaxis\":{\"gridcolor\":\"white\",\"linecolor\":\"white\",\"ticks\":\"\"}},\"ternary\":{\"bgcolor\":\"#E5ECF6\",\"aaxis\":{\"gridcolor\":\"white\",\"linecolor\":\"white\",\"ticks\":\"\"},\"baxis\":{\"gridcolor\":\"white\",\"linecolor\":\"white\",\"ticks\":\"\"},\"caxis\":{\"gridcolor\":\"white\",\"linecolor\":\"white\",\"ticks\":\"\"}},\"coloraxis\":{\"colorbar\":{\"outlinewidth\":0,\"ticks\":\"\"}},\"colorscale\":{\"sequential\":[[0.0,\"#0d0887\"],[0.1111111111111111,\"#46039f\"],[0.2222222222222222,\"#7201a8\"],[0.3333333333333333,\"#9c179e\"],[0.4444444444444444,\"#bd3786\"],[0.5555555555555556,\"#d8576b\"],[0.6666666666666666,\"#ed7953\"],[0.7777777777777778,\"#fb9f3a\"],[0.8888888888888888,\"#fdca26\"],[1.0,\"#f0f921\"]],\"sequentialminus\":[[0.0,\"#0d0887\"],[0.1111111111111111,\"#46039f\"],[0.2222222222222222,\"#7201a8\"],[0.3333333333333333,\"#9c179e\"],[0.4444444444444444,\"#bd3786\"],[0.5555555555555556,\"#d8576b\"],[0.6666666666666666,\"#ed7953\"],[0.7777777777777778,\"#fb9f3a\"],[0.8888888888888888,\"#fdca26\"],[1.0,\"#f0f921\"]],\"diverging\":[[0,\"#8e0152\"],[0.1,\"#c51b7d\"],[0.2,\"#de77ae\"],[0.3,\"#f1b6da\"],[0.4,\"#fde0ef\"],[0.5,\"#f7f7f7\"],[0.6,\"#e6f5d0\"],[0.7,\"#b8e186\"],[0.8,\"#7fbc41\"],[0.9,\"#4d9221\"],[1,\"#276419\"]]},\"xaxis\":{\"gridcolor\":\"white\",\"linecolor\":\"white\",\"ticks\":\"\",\"title\":{\"standoff\":15},\"zerolinecolor\":\"white\",\"automargin\":true,\"zerolinewidth\":2},\"yaxis\":{\"gridcolor\":\"white\",\"linecolor\":\"white\",\"ticks\":\"\",\"title\":{\"standoff\":15},\"zerolinecolor\":\"white\",\"automargin\":true,\"zerolinewidth\":2},\"scene\":{\"xaxis\":{\"backgroundcolor\":\"#E5ECF6\",\"gridcolor\":\"white\",\"linecolor\":\"white\",\"showbackground\":true,\"ticks\":\"\",\"zerolinecolor\":\"white\",\"gridwidth\":2},\"yaxis\":{\"backgroundcolor\":\"#E5ECF6\",\"gridcolor\":\"white\",\"linecolor\":\"white\",\"showbackground\":true,\"ticks\":\"\",\"zerolinecolor\":\"white\",\"gridwidth\":2},\"zaxis\":{\"backgroundcolor\":\"#E5ECF6\",\"gridcolor\":\"white\",\"linecolor\":\"white\",\"showbackground\":true,\"ticks\":\"\",\"zerolinecolor\":\"white\",\"gridwidth\":2}},\"shapedefaults\":{\"line\":{\"color\":\"#2a3f5f\"}},\"annotationdefaults\":{\"arrowcolor\":\"#2a3f5f\",\"arrowhead\":0,\"arrowwidth\":1},\"geo\":{\"bgcolor\":\"white\",\"landcolor\":\"#E5ECF6\",\"subunitcolor\":\"white\",\"showland\":true,\"showlakes\":true,\"lakecolor\":\"white\"},\"title\":{\"x\":0.05},\"mapbox\":{\"style\":\"light\"}}},\"xaxis\":{\"anchor\":\"y\",\"domain\":[0.0,1.0],\"title\":{\"text\":\"Location\"}},\"yaxis\":{\"anchor\":\"x\",\"domain\":[0.0,1.0],\"title\":{\"text\":\"Average Crop Yield\"}},\"legend\":{\"tracegroupgap\":0},\"title\":{\"text\":\"Average Crop Yield by Location\"}},                        {\"responsive\": true}                    ).then(function(){\n",
       "                            \n",
       "var gd = document.getElementById('d4652b02-3ac0-4b4a-b089-c9bce35530c0');\n",
       "var x = new MutationObserver(function (mutations, observer) {{\n",
       "        var display = window.getComputedStyle(gd).display;\n",
       "        if (!display || display === 'none') {{\n",
       "            console.log([gd, 'removed!']);\n",
       "            Plotly.purge(gd);\n",
       "            observer.disconnect();\n",
       "        }}\n",
       "}});\n",
       "\n",
       "// Listen for the removal of the full notebook cells\n",
       "var notebookContainer = gd.closest('#notebook-container');\n",
       "if (notebookContainer) {{\n",
       "    x.observe(notebookContainer, {childList: true});\n",
       "}}\n",
       "\n",
       "// Listen for the clearing of the current output cell\n",
       "var outputEl = gd.closest('.output');\n",
       "if (outputEl) {{\n",
       "    x.observe(outputEl, {childList: true});\n",
       "}}\n",
       "\n",
       "                        })                };                });            </script>        </div>"
      ]
     },
     "metadata": {},
     "output_type": "display_data"
    }
   ],
   "source": [
    "total_yield = df.groupby('Location')['Crop_Yield'].sum().reset_index()\n",
    "\n",
    "#Create a bar graph for total crop yield by location\n",
    "fig_total_yield = px.bar(total_yield, \n",
    "                          x='Location', \n",
    "                          y='Crop_Yield', \n",
    "                          title='Total Crop Yield by Location',\n",
    "                          labels={'Crop_Yield': 'Total Crop Yield'},\n",
    "                          color='Crop_Yield',\n",
    "                          color_continuous_scale=px.colors.sequential.Plasma)\n",
    "\n",
    "#Calculate average crop yield by location for the line graph\n",
    "average_yield = df.groupby('Location')['Crop_Yield'].mean().reset_index()\n",
    "\n",
    "# Create a line graph for average crop yield by location\n",
    "fig_yield_trend = px.line(average_yield, \n",
    "                           x='Location', \n",
    "                           y='Crop_Yield', \n",
    "                           title='Average Crop Yield by Location',\n",
    "                           labels={'Crop_Yield': 'Average Crop Yield'},\n",
    "                           markers=True)\n",
    "\n",
    "# Show the figures\n",
    "fig_total_yield.show()\n",
    "fig_yield_trend.show()"
   ]
  },
  {
   "cell_type": "code",
   "execution_count": 193,
   "id": "48d5aff9-65d3-4b83-828e-c857575731d4",
   "metadata": {},
   "outputs": [
    {
     "name": "stdout",
     "output_type": "stream",
     "text": [
      "                   Date_Ordinal  Temperature(C)  Humidity(pct)  \\\n",
      "Date_Ordinal           1.000000        0.016563      -0.000240   \n",
      "Temperature(C)         0.016563        1.000000      -0.001344   \n",
      "Humidity(pct)         -0.000240       -0.001344       1.000000   \n",
      "Precipitation(mm)     -0.036360       -0.010876      -0.000264   \n",
      "Wind_Speed(km/h)       0.000143       -0.001273      -0.000642   \n",
      "\n",
      "                   Precipitation(mm)  Wind_Speed(km/h)  \n",
      "Date_Ordinal               -0.036360          0.000143  \n",
      "Temperature(C)             -0.010876         -0.001273  \n",
      "Humidity(pct)              -0.000264         -0.000642  \n",
      "Precipitation(mm)           1.000000          0.000981  \n",
      "Wind_Speed(km/h)            0.000981          1.000000  \n"
     ]
    },
    {
     "data": {
      "image/png": "[encoded data removed]",
      "text/plain": [
       "<Figure size 800x400 with 2 Axes>"
      ]
     },
     "metadata": {},
     "output_type": "display_data"
    }
   ],
   "source": [
    "# Ensure the 'Date' column is in datetime format (specifically for mm/dd/yyyy format)\n",
    "df['Date'] = pd.to_datetime(df['Date'], format='%m/%d/%Y', errors='coerce')\n",
    "\n",
    "# Check for any rows that could not be converted\n",
    "if df['Date'].isnull().any():\n",
    "    print(\"Warning: Some dates could not be parsed. Check the data for inconsistencies.\")\n",
    "\n",
    "# Select relevant columns for correlation analysis\n",
    "correlation_data = df[['Date', 'Temperature(C)', 'Humidity(pct)', 'Precipitation(mm)', 'Wind_Speed(km/h)']].copy()\n",
    "\n",
    "# Convert 'Date' to ordinal for correlation calculation\n",
    "correlation_data['Date_Ordinal'] = correlation_data['Date'].map(pd.Timestamp.toordinal)\n",
    "\n",
    "# Calculate the correlation matrix\n",
    "correlation_matrix = correlation_data[['Date_Ordinal', 'Temperature(C)', 'Humidity(pct)', 'Precipitation(mm)', 'Wind_Speed(km/h)']].corr()\n",
    "\n",
    "# Display the correlation matrix\n",
    "print(correlation_matrix)\n",
    "\n",
    "# Create a heatmap for better visualization\n",
    "plt.figure(figsize=(8, 4))\n",
    "sns.heatmap(correlation_matrix, annot=True, cmap='coolwarm', fmt=\".2f\")\n",
    "plt.title('Correlation Matrix of Weather Variables')\n",
    "plt.show()"
   ]
  },
  {
   "cell_type": "code",
   "execution_count": 194,
   "id": "85a10368-f367-44bf-bc2e-376bdf9ae59a",
   "metadata": {},
   "outputs": [
    {
     "name": "stdout",
     "output_type": "stream",
     "text": [
      "                   Temperature(C)  Humidity(pct)  Precipitation(mm)  \\\n",
      "Temperature(C)           1.000000      -0.159021          -0.997210   \n",
      "Humidity(pct)           -0.159021       1.000000           0.176090   \n",
      "Precipitation(mm)       -0.997210       0.176090           1.000000   \n",
      "Wind_Speed(km/h)         0.185210       0.516589          -0.176747   \n",
      "Crop_Yield              -0.112491      -0.606916           0.115008   \n",
      "\n",
      "                   Wind_Speed(km/h)  Crop_Yield  \n",
      "Temperature(C)             0.185210   -0.112491  \n",
      "Humidity(pct)              0.516589   -0.606916  \n",
      "Precipitation(mm)         -0.176747    0.115008  \n",
      "Wind_Speed(km/h)           1.000000   -0.784323  \n",
      "Crop_Yield                -0.784323    1.000000  \n"
     ]
    },
    {
     "data": {
      "image/png": "[encoded data removed]",
      "text/plain": [
       "<Figure size 800x400 with 2 Axes>"
      ]
     },
     "metadata": {},
     "output_type": "display_data"
    }
   ],
   "source": [
    "# Group by location and calculate average climate conditions and crop yield\n",
    "average_conditions = df.groupby('Location').agg({\n",
    "    'Temperature(C)': 'mean',\n",
    "    'Humidity(pct)': 'mean',\n",
    "    'Precipitation(mm)': 'mean',\n",
    "    'Wind_Speed(km/h)': 'mean',\n",
    "    'Crop_Yield': 'mean'  # Assuming Crop_Yield is also available per location\n",
    "}).reset_index()\n",
    "\n",
    "# Calculate the correlation matrix\n",
    "correlation_matrix = average_conditions[['Temperature(C)', 'Humidity(pct)', 'Precipitation(mm)', 'Wind_Speed(km/h)', 'Crop_Yield']].corr()\n",
    "\n",
    "# Display the correlation matrix\n",
    "print(correlation_matrix)\n",
    "\n",
    "# Create a heatmap for better visualization\n",
    "plt.figure(figsize=(8, 4))\n",
    "sns.heatmap(correlation_matrix, annot=True, cmap='coolwarm', fmt=\".2f\")\n",
    "plt.title('Correlation Matrix of Climate Conditions and Crop Yield')\n",
    "plt.show()"
   ]
  },
  {
   "cell_type": "code",
   "execution_count": 195,
   "id": "3a8f538f-bcdc-4a6a-b68f-f5a974ff6e6f",
   "metadata": {},
   "outputs": [
    {
     "data": {
      "image/png": "[encoded data removed]",
      "text/plain": [
       "<Figure size 600x600 with 1 Axes>"
      ]
     },
     "metadata": {},
     "output_type": "display_data"
    }
   ],
   "source": [
    "# Prepare input features (X) and target variable (y)\n",
    "X = average_conditions[['Temperature(C)', 'Humidity(pct)', 'Precipitation(mm)', 'Wind_Speed(km/h)']]\n",
    "y = average_conditions['Crop_Yield']\n",
    "\n",
    "# Fit a linear regression model\n",
    "model = LinearRegression()\n",
    "model.fit(X, y)\n",
    "\n",
    "# Get the coefficients and feature names\n",
    "coefficients = model.coef_\n",
    "features = X.columns\n",
    "\n",
    "# Create a DataFrame for variable importance\n",
    "importance_df = pd.DataFrame({'Feature': features, 'Importance': coefficients})\n",
    "\n",
    "# Use absolute values for importance\n",
    "importance_df['Importance'] = importance_df['Importance'].abs()\n",
    "importance_df['Importance'] = importance_df['Importance'] / importance_df['Importance'].sum()  # Normalize importance\n",
    "\n",
    "# Plot the pie chart\n",
    "plt.figure(figsize=(6, 6))\n",
    "plt.pie(importance_df['Importance'], labels=importance_df['Feature'], autopct='%1.1f%%', startangle=140)\n",
    "plt.title('Variable Importance to Total Crop Yield')\n",
    "plt.axis('equal')  # Equal aspect ratio ensures the pie chart is circular\n",
    "plt.show()"
   ]
  },
  {
   "cell_type": "markdown",
   "id": "e3af6e38-6697-487d-8ca5-f0805bc7a64d",
   "metadata": {},
   "source": [
    "# Simulating large dataset challenges: Trend Analysis of weather conditions by date"
   ]
  },
  {
   "cell_type": "code",
   "execution_count": null,
   "id": "ba691ae3-039d-4f66-abd5-482962201b13",
   "metadata": {},
   "outputs": [
    {
     "name": "stderr",
     "output_type": "stream",
     "text": [
      "C:\\Users\\user\\AppData\\Local\\Temp\\ipykernel_17404\\4080959297.py:23: UserWarning:\n",
      "\n",
      "Creating legend with loc=\"best\" can be slow with large amounts of data.\n",
      "\n",
      "C:\\Users\\user\\anaconda3\\Lib\\site-packages\\IPython\\core\\pylabtools.py:170: UserWarning:\n",
      "\n",
      "Creating legend with loc=\"best\" can be slow with large amounts of data.\n",
      "\n"
     ]
    }
   ],
   "source": [
    "\n",
    "#df['Date'] = pd.to_datetime(df['Date'], format='%m/%d/%Y', errors='coerce')\n",
    "\n",
    "# Set the date as the index\n",
    "df.set_index('Date', inplace=True)\n",
    "\n",
    "# Plotting\n",
    "plt.figure(figsize=(14, 7))\n",
    "\n",
    "# Plot each variable using the renamed columns\n",
    "plt.plot(df.index, df['Temperature(C)'], label='Temperature (°C)', color='red', linewidth=2)\n",
    "plt.plot(df.index, df['Humidity(pct)'], label='Humidity (%)', color='blue', linewidth=2)\n",
    "plt.plot(df.index, df['Precipitation(mm)'], label='Precipitation (mm)', color='green', linewidth=2)\n",
    "plt.plot(df.index, df['Wind_Speed(km/h)'], label='Wind Speed (km/h)', color='orange', linewidth=2)\n",
    "\n",
    "# Adding titles and labels\n",
    "plt.title('Trend Analysis of Weather Variables Over Time', fontsize=16)\n",
    "plt.xlabel('Date', fontsize=14)\n",
    "plt.ylabel('Values', fontsize=14)\n",
    "plt.legend()\n",
    "plt.grid()\n",
    "\n",
    "# Show plot\n",
    "plt.tight_layout()\n",
    "plt.show()"
   ]
  },
  {
   "cell_type": "code",
   "execution_count": null,
   "id": "16c023b5-ad0d-4015-9eae-a88d00def93e",
   "metadata": {},
   "outputs": [],
   "source": [
    "# Select the first 20 samples\n",
    "df_subset = df.head(20)\n",
    "\n",
    "# Plotting\n",
    "plt.figure(figsize=(14, 7))\n",
    "\n",
    "# Plot each variable \n",
    "plt.plot(df_subset.index, df_subset['Temperature(C)'], label='Temperature (°C)', color='red', linewidth=2)\n",
    "plt.plot(df_subset.index, df_subset['Humidity(pct)'], label='Humidity (%)', color='blue', linewidth=2)\n",
    "plt.plot(df_subset.index, df_subset['Precipitation(mm)'], label='Precipitation (mm)', color='green', linewidth=2)\n",
    "plt.plot(df_subset.index, df_subset['Wind_Speed(km/h)'], label='Wind Speed (km/h)', color='orange', linewidth=2)\n",
    "\n",
    "# Adding titles and labels\n",
    "plt.title('Trend Analysis of Weather Variables (First 20 Samples)', fontsize=16)\n",
    "plt.xlabel('Date', fontsize=14)\n",
    "plt.ylabel('Values', fontsize=14)\n",
    "plt.legend(loc='upper right')\n",
    "plt.grid()\n",
    "\n",
    "# Show plot\n",
    "plt.tight_layout()\n",
    "plt.show()"
   ]
  },
  {
   "cell_type": "code",
   "execution_count": null,
   "id": "61f1e56f-f71a-4419-bf60-eba5904efdda",
   "metadata": {},
   "outputs": [],
   "source": []
  }
 ],
 "metadata": {
  "kernelspec": {
   "display_name": "Python [conda env:base] *",
   "language": "python",
   "name": "conda-base-py"
  },
  "language_info": {
   "codemirror_mode": {
    "name": "ipython",
    "version": 3
   },
   "file_extension": ".py",
   "mimetype": "text/x-python",
   "name": "python",
   "nbconvert_exporter": "python",
   "pygments_lexer": "ipython3",
   "version": "3.12.7"
  }
 },
 "nbformat": 4,
 "nbformat_minor": 5
}
